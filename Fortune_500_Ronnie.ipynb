{
 "cells": [
  {
   "cell_type": "markdown",
   "metadata": {},
   "source": [
    "# Fortune 500 Web scrape (Selenium and BeautifulSoup)"
   ]
  },
  {
   "cell_type": "markdown",
   "metadata": {},
   "source": [
    "## 0. Import modules"
   ]
  },
  {
   "cell_type": "code",
   "execution_count": 1,
   "metadata": {},
   "outputs": [],
   "source": [
    "from selenium import webdriver\n",
    "from selenium import webdriver\n",
    "from selenium.webdriver.common.by import By\n",
    "from selenium.webdriver.support.ui import WebDriverWait\n",
    "from selenium.webdriver.support import expected_conditions as EC\n",
    "from selenium.common.exceptions import NoSuchElementException\n",
    "from selenium.webdriver.support.ui import Select\n",
    "\n",
    "import requests\n",
    "import time\n",
    "import pandas as pd\n",
    "from bs4 import BeautifulSoup\n",
    "import html5lib"
   ]
  },
  {
   "cell_type": "code",
   "execution_count": 2,
   "metadata": {},
   "outputs": [],
   "source": [
    "import os.path"
   ]
  },
  {
   "cell_type": "markdown",
   "metadata": {},
   "source": [
    "## 1. Scrape Initial data"
   ]
  },
  {
   "cell_type": "code",
   "execution_count": 3,
   "metadata": {},
   "outputs": [],
   "source": [
    "def create_headers(soup):\n",
    "\n",
    "    table = soup.find('div', class_=\"ReactTable\")\n",
    "\n",
    "    headers = []\n",
    "    # Class is unique is constant throughout the html for ALL headings.\n",
    "    theaders = table.find_all('div', class_='searchResults__columnTitle--1Brf4')\n",
    "    for header in theaders:\n",
    "        headers.append(header.text)\n",
    "#         print(header.text)\n",
    "\n",
    "    with open ('Fortune500.csv','w') as r:\n",
    "        for col in headers:\n",
    "            # Prevents additional columns being creating, due to csv format.\n",
    "            if ',' in col:\n",
    "                col = col.replace(',','')\n",
    "            r.write(col)\n",
    "            # Prevents the creation of an extra column.\n",
    "            if col != headers[-1]:\n",
    "                r.write(',')\n",
    "        r.write('\\n')"
   ]
  },
  {
   "cell_type": "code",
   "execution_count": 4,
   "metadata": {},
   "outputs": [],
   "source": [
    "def scrape_data(soup):\n",
    "\n",
    "    table = soup.find('div', class_=\"ReactTable\")\n",
    "    tbody = table.find('div', class_=\"rt-tbody\")\n",
    "    rows = tbody.find_all('div', class_='rt-tr-group')\n",
    "\n",
    "    with open ('Fortune500.csv','a') as r:        \n",
    "        for row in rows:\n",
    "            # Class is unique is constant throughout the html for ALL data points.\n",
    "            cols = row.find_all('div', class_='searchResults__cellContent--3WEWj')\n",
    "            for col in cols:\n",
    "                value = col.text\n",
    "                # Prevents additional columns being creating, due to csv format.\n",
    "                if ',' in value:\n",
    "                    value = value.replace(',','')\n",
    "                r.write(value)\n",
    "                r.write(',')\n",
    "            r.write('\\n')"
   ]
  },
  {
   "cell_type": "code",
   "execution_count": 5,
   "metadata": {
    "tags": []
   },
   "outputs": [
    {
     "output_type": "stream",
     "name": "stdout",
     "text": "Scraping Page: 1\n"
    },
    {
     "output_type": "error",
     "ename": "ElementClickInterceptedException",
     "evalue": "Message: element click intercepted: Element <div class=\"-next\">...</div> is not clickable at point (1038, 334). Other element would receive the click: <iframe id=\"offer-0-vq9bo\" name=\"offer-0-vq9bo\" title=\"offer-0-vq9bo\" scrolling=\"no\" allowtransparency=\"true\" src=\"https://buy.tinypass.com/checkout/template/show?displayMode=inline&amp;containerSelector=%23piano-inline&amp;templateId=OTRT9NY8EGH5&amp;templateVariantId=OTVUTNT7S6ND9&amp;offerId=fakeOfferId&amp;showCloseButton=false&amp;trackingId=%7Bjcx%7DH4sIAAAAAAAAAI2QSU_DMBCF_4vPdWU7sR3nViAs6iYgXW-uY6cOSRqytQLx30lLAVXiwNxmvveeZuYdSBsBHyjzmBAzdt4S0AOFjPXc6v3DkRBEEEQexBRiDgmHLoOO1zX7mVFpwpavj-E0HBZQO1JEREfcYIkMYYIiHnFMXRNRtEGiC9aHQpdW50qfooNlINbhLV9MxeKCBgetmtru8pMMe4gbsUPWhagrUrUvqSBtY2Jh6KZJk01bVxf-gfoxV9vdPtRZkcpaO1fUGztLZ4hHiDudYyurbwb8umx0D9Tn_mSehk-hmKy84O6egl82l6WVeX2WzGfhJOTPbHJzPFHJrJA2zivg502a9kBrK_slbeGfvxQEmtEKXR9WKlsFOUmi9X9-aYsukqM-8_qY0T6hbjdsKl0OYp3XHYsyddy5ToGPqeCMuIixj0-2Jwun8QEAAA&amp;experienceId=EXE9ZTF7WO9W&amp;activeMeters=%5B%7B%22meterName%22%3A%22Pageviews+Daily%22%2C%22views%22%3A1%2C%22viewsLeft%22%3A19%2C%22maxViews%22%3A20%2C%22totalViews%22%3A1%7D%5D&amp;tbc=%7Bjzx%7DMKUmQj7fgSDqlMRYpGnQ-F3HAvwOCFDd5IfzWNxQVY79KGQ4lU7z5WrycRhDirpy7QYYIGy9nH0i04hDohEz5zY2TPHqq7TNeEWcm6KQJzvw066S1xIBaRgO9m5lZqYYLJ3DQJhylQh6akJbpdDj_w&amp;iframeId=offer-0-vq9bo&amp;url=https%3A%2F%2Ffortune.com%2Ffortune500%2F2020%2Fsearch%2F&amp;parentDualScreenLeft=-1292&amp;parentDualScreenTop=-471&amp;parentWidth=1200&amp;parentHeight=667&amp;parentOuterHeight=790&amp;aid=cfQj2fM3zj&amp;pageViewId=2020-08-15-17-27-46-385-1wUfclj6XqQTOTKp-e3a9d2ed7f1a0f269507d7154fd50b09&amp;visitId=v-2020-08-15-17-27-46-392-fLY0CxYcmYEn2jdZ-e3a9d2ed7f1a0f269507d7154fd50b09&amp;pianoIdUrl=https%3A%2F%2Fid.tinypass.com%2Fid%2F&amp;userProvider=piano_id&amp;userToken=&amp;customCookies=%7B%7D&amp;hasLoginRequiredCallback=true&amp;width=100&amp;_qh=09a7c98584\" frameborder=\"0\" style=\"overflow: hidden; background-color: transparent; border: 0px; width: 100px; height: 400px;\"></iframe>\n  (Session info: chrome=84.0.4147.125)\n",
     "traceback": [
      "\u001b[0;31m---------------------------------------------------------------------------\u001b[0m",
      "\u001b[0;31mElementClickInterceptedException\u001b[0m          Traceback (most recent call last)",
      "\u001b[0;32m<ipython-input-5-386c71bdf0e7>\u001b[0m in \u001b[0;36m<module>\u001b[0;34m\u001b[0m\n\u001b[1;32m     27\u001b[0m         show_more = WebDriverWait(driver, 3).until(\n\u001b[1;32m     28\u001b[0m             EC.element_to_be_clickable((By.CLASS_NAME, \"-next\")))\n\u001b[0;32m---> 29\u001b[0;31m         \u001b[0mshow_more\u001b[0m\u001b[0;34m.\u001b[0m\u001b[0mclick\u001b[0m\u001b[0;34m(\u001b[0m\u001b[0;34m)\u001b[0m\u001b[0;34m\u001b[0m\u001b[0;34m\u001b[0m\u001b[0m\n\u001b[0m\u001b[1;32m     30\u001b[0m         \u001b[0mpage\u001b[0m \u001b[0;34m+=\u001b[0m \u001b[0;36m1\u001b[0m\u001b[0;34m\u001b[0m\u001b[0;34m\u001b[0m\u001b[0m\n\u001b[1;32m     31\u001b[0m \u001b[0;34m\u001b[0m\u001b[0m\n",
      "\u001b[0;32m~/anaconda3/lib/python3.7/site-packages/selenium/webdriver/remote/webelement.py\u001b[0m in \u001b[0;36mclick\u001b[0;34m(self)\u001b[0m\n\u001b[1;32m     78\u001b[0m     \u001b[0;32mdef\u001b[0m \u001b[0mclick\u001b[0m\u001b[0;34m(\u001b[0m\u001b[0mself\u001b[0m\u001b[0;34m)\u001b[0m\u001b[0;34m:\u001b[0m\u001b[0;34m\u001b[0m\u001b[0;34m\u001b[0m\u001b[0m\n\u001b[1;32m     79\u001b[0m         \u001b[0;34m\"\"\"Clicks the element.\"\"\"\u001b[0m\u001b[0;34m\u001b[0m\u001b[0;34m\u001b[0m\u001b[0m\n\u001b[0;32m---> 80\u001b[0;31m         \u001b[0mself\u001b[0m\u001b[0;34m.\u001b[0m\u001b[0m_execute\u001b[0m\u001b[0;34m(\u001b[0m\u001b[0mCommand\u001b[0m\u001b[0;34m.\u001b[0m\u001b[0mCLICK_ELEMENT\u001b[0m\u001b[0;34m)\u001b[0m\u001b[0;34m\u001b[0m\u001b[0;34m\u001b[0m\u001b[0m\n\u001b[0m\u001b[1;32m     81\u001b[0m \u001b[0;34m\u001b[0m\u001b[0m\n\u001b[1;32m     82\u001b[0m     \u001b[0;32mdef\u001b[0m \u001b[0msubmit\u001b[0m\u001b[0;34m(\u001b[0m\u001b[0mself\u001b[0m\u001b[0;34m)\u001b[0m\u001b[0;34m:\u001b[0m\u001b[0;34m\u001b[0m\u001b[0;34m\u001b[0m\u001b[0m\n",
      "\u001b[0;32m~/anaconda3/lib/python3.7/site-packages/selenium/webdriver/remote/webelement.py\u001b[0m in \u001b[0;36m_execute\u001b[0;34m(self, command, params)\u001b[0m\n\u001b[1;32m    631\u001b[0m             \u001b[0mparams\u001b[0m \u001b[0;34m=\u001b[0m \u001b[0;34m{\u001b[0m\u001b[0;34m}\u001b[0m\u001b[0;34m\u001b[0m\u001b[0;34m\u001b[0m\u001b[0m\n\u001b[1;32m    632\u001b[0m         \u001b[0mparams\u001b[0m\u001b[0;34m[\u001b[0m\u001b[0;34m'id'\u001b[0m\u001b[0;34m]\u001b[0m \u001b[0;34m=\u001b[0m \u001b[0mself\u001b[0m\u001b[0;34m.\u001b[0m\u001b[0m_id\u001b[0m\u001b[0;34m\u001b[0m\u001b[0;34m\u001b[0m\u001b[0m\n\u001b[0;32m--> 633\u001b[0;31m         \u001b[0;32mreturn\u001b[0m \u001b[0mself\u001b[0m\u001b[0;34m.\u001b[0m\u001b[0m_parent\u001b[0m\u001b[0;34m.\u001b[0m\u001b[0mexecute\u001b[0m\u001b[0;34m(\u001b[0m\u001b[0mcommand\u001b[0m\u001b[0;34m,\u001b[0m \u001b[0mparams\u001b[0m\u001b[0;34m)\u001b[0m\u001b[0;34m\u001b[0m\u001b[0;34m\u001b[0m\u001b[0m\n\u001b[0m\u001b[1;32m    634\u001b[0m \u001b[0;34m\u001b[0m\u001b[0m\n\u001b[1;32m    635\u001b[0m     \u001b[0;32mdef\u001b[0m \u001b[0mfind_element\u001b[0m\u001b[0;34m(\u001b[0m\u001b[0mself\u001b[0m\u001b[0;34m,\u001b[0m \u001b[0mby\u001b[0m\u001b[0;34m=\u001b[0m\u001b[0mBy\u001b[0m\u001b[0;34m.\u001b[0m\u001b[0mID\u001b[0m\u001b[0;34m,\u001b[0m \u001b[0mvalue\u001b[0m\u001b[0;34m=\u001b[0m\u001b[0;32mNone\u001b[0m\u001b[0;34m)\u001b[0m\u001b[0;34m:\u001b[0m\u001b[0;34m\u001b[0m\u001b[0;34m\u001b[0m\u001b[0m\n",
      "\u001b[0;32m~/anaconda3/lib/python3.7/site-packages/selenium/webdriver/remote/webdriver.py\u001b[0m in \u001b[0;36mexecute\u001b[0;34m(self, driver_command, params)\u001b[0m\n\u001b[1;32m    319\u001b[0m         \u001b[0mresponse\u001b[0m \u001b[0;34m=\u001b[0m \u001b[0mself\u001b[0m\u001b[0;34m.\u001b[0m\u001b[0mcommand_executor\u001b[0m\u001b[0;34m.\u001b[0m\u001b[0mexecute\u001b[0m\u001b[0;34m(\u001b[0m\u001b[0mdriver_command\u001b[0m\u001b[0;34m,\u001b[0m \u001b[0mparams\u001b[0m\u001b[0;34m)\u001b[0m\u001b[0;34m\u001b[0m\u001b[0;34m\u001b[0m\u001b[0m\n\u001b[1;32m    320\u001b[0m         \u001b[0;32mif\u001b[0m \u001b[0mresponse\u001b[0m\u001b[0;34m:\u001b[0m\u001b[0;34m\u001b[0m\u001b[0;34m\u001b[0m\u001b[0m\n\u001b[0;32m--> 321\u001b[0;31m             \u001b[0mself\u001b[0m\u001b[0;34m.\u001b[0m\u001b[0merror_handler\u001b[0m\u001b[0;34m.\u001b[0m\u001b[0mcheck_response\u001b[0m\u001b[0;34m(\u001b[0m\u001b[0mresponse\u001b[0m\u001b[0;34m)\u001b[0m\u001b[0;34m\u001b[0m\u001b[0;34m\u001b[0m\u001b[0m\n\u001b[0m\u001b[1;32m    322\u001b[0m             response['value'] = self._unwrap_value(\n\u001b[1;32m    323\u001b[0m                 response.get('value', None))\n",
      "\u001b[0;32m~/anaconda3/lib/python3.7/site-packages/selenium/webdriver/remote/errorhandler.py\u001b[0m in \u001b[0;36mcheck_response\u001b[0;34m(self, response)\u001b[0m\n\u001b[1;32m    240\u001b[0m                 \u001b[0malert_text\u001b[0m \u001b[0;34m=\u001b[0m \u001b[0mvalue\u001b[0m\u001b[0;34m[\u001b[0m\u001b[0;34m'alert'\u001b[0m\u001b[0;34m]\u001b[0m\u001b[0;34m.\u001b[0m\u001b[0mget\u001b[0m\u001b[0;34m(\u001b[0m\u001b[0;34m'text'\u001b[0m\u001b[0;34m)\u001b[0m\u001b[0;34m\u001b[0m\u001b[0;34m\u001b[0m\u001b[0m\n\u001b[1;32m    241\u001b[0m             \u001b[0;32mraise\u001b[0m \u001b[0mexception_class\u001b[0m\u001b[0;34m(\u001b[0m\u001b[0mmessage\u001b[0m\u001b[0;34m,\u001b[0m \u001b[0mscreen\u001b[0m\u001b[0;34m,\u001b[0m \u001b[0mstacktrace\u001b[0m\u001b[0;34m,\u001b[0m \u001b[0malert_text\u001b[0m\u001b[0;34m)\u001b[0m\u001b[0;34m\u001b[0m\u001b[0;34m\u001b[0m\u001b[0m\n\u001b[0;32m--> 242\u001b[0;31m         \u001b[0;32mraise\u001b[0m \u001b[0mexception_class\u001b[0m\u001b[0;34m(\u001b[0m\u001b[0mmessage\u001b[0m\u001b[0;34m,\u001b[0m \u001b[0mscreen\u001b[0m\u001b[0;34m,\u001b[0m \u001b[0mstacktrace\u001b[0m\u001b[0;34m)\u001b[0m\u001b[0;34m\u001b[0m\u001b[0;34m\u001b[0m\u001b[0m\n\u001b[0m\u001b[1;32m    243\u001b[0m \u001b[0;34m\u001b[0m\u001b[0m\n\u001b[1;32m    244\u001b[0m     \u001b[0;32mdef\u001b[0m \u001b[0m_value_or_default\u001b[0m\u001b[0;34m(\u001b[0m\u001b[0mself\u001b[0m\u001b[0;34m,\u001b[0m \u001b[0mobj\u001b[0m\u001b[0;34m,\u001b[0m \u001b[0mkey\u001b[0m\u001b[0;34m,\u001b[0m \u001b[0mdefault\u001b[0m\u001b[0;34m)\u001b[0m\u001b[0;34m:\u001b[0m\u001b[0;34m\u001b[0m\u001b[0;34m\u001b[0m\u001b[0m\n",
      "\u001b[0;31mElementClickInterceptedException\u001b[0m: Message: element click intercepted: Element <div class=\"-next\">...</div> is not clickable at point (1038, 334). Other element would receive the click: <iframe id=\"offer-0-vq9bo\" name=\"offer-0-vq9bo\" title=\"offer-0-vq9bo\" scrolling=\"no\" allowtransparency=\"true\" src=\"https://buy.tinypass.com/checkout/template/show?displayMode=inline&amp;containerSelector=%23piano-inline&amp;templateId=OTRT9NY8EGH5&amp;templateVariantId=OTVUTNT7S6ND9&amp;offerId=fakeOfferId&amp;showCloseButton=false&amp;trackingId=%7Bjcx%7DH4sIAAAAAAAAAI2QSU_DMBCF_4vPdWU7sR3nViAs6iYgXW-uY6cOSRqytQLx30lLAVXiwNxmvveeZuYdSBsBHyjzmBAzdt4S0AOFjPXc6v3DkRBEEEQexBRiDgmHLoOO1zX7mVFpwpavj-E0HBZQO1JEREfcYIkMYYIiHnFMXRNRtEGiC9aHQpdW50qfooNlINbhLV9MxeKCBgetmtru8pMMe4gbsUPWhagrUrUvqSBtY2Jh6KZJk01bVxf-gfoxV9vdPtRZkcpaO1fUGztLZ4hHiDudYyurbwb8umx0D9Tn_mSehk-hmKy84O6egl82l6WVeX2WzGfhJOTPbHJzPFHJrJA2zivg502a9kBrK_slbeGfvxQEmtEKXR9WKlsFOUmi9X9-aYsukqM-8_qY0T6hbjdsKl0OYp3XHYsyddy5ToGPqeCMuIixj0-2Jwun8QEAAA&amp;experienceId=EXE9ZTF7WO9W&amp;activeMeters=%5B%7B%22meterName%22%3A%22Pageviews+Daily%22%2C%22views%22%3A1%2C%22viewsLeft%22%3A19%2C%22maxViews%22%3A20%2C%22totalViews%22%3A1%7D%5D&amp;tbc=%7Bjzx%7DMKUmQj7fgSDqlMRYpGnQ-F3HAvwOCFDd5IfzWNxQVY79KGQ4lU7z5WrycRhDirpy7QYYIGy9nH0i04hDohEz5zY2TPHqq7TNeEWcm6KQJzvw066S1xIBaRgO9m5lZqYYLJ3DQJhylQh6akJbpdDj_w&amp;iframeId=offer-0-vq9bo&amp;url=https%3A%2F%2Ffortune.com%2Ffortune500%2F2020%2Fsearch%2F&amp;parentDualScreenLeft=-1292&amp;parentDualScreenTop=-471&amp;parentWidth=1200&amp;parentHeight=667&amp;parentOuterHeight=790&amp;aid=cfQj2fM3zj&amp;pageViewId=2020-08-15-17-27-46-385-1wUfclj6XqQTOTKp-e3a9d2ed7f1a0f269507d7154fd50b09&amp;visitId=v-2020-08-15-17-27-46-392-fLY0CxYcmYEn2jdZ-e3a9d2ed7f1a0f269507d7154fd50b09&amp;pianoIdUrl=https%3A%2F%2Fid.tinypass.com%2Fid%2F&amp;userProvider=piano_id&amp;userToken=&amp;customCookies=%7B%7D&amp;hasLoginRequiredCallback=true&amp;width=100&amp;_qh=09a7c98584\" frameborder=\"0\" style=\"overflow: hidden; background-color: transparent; border: 0px; width: 100px; height: 400px;\"></iframe>\n  (Session info: chrome=84.0.4147.125)\n"
     ]
    }
   ],
   "source": [
    "path = \"/Users/hongbinlin/Downloads/chromedriver\"\n",
    "driver = webdriver.Chrome(path)\n",
    "\n",
    "webpage = \"https://fortune.com/fortune500/2020/search/\"\n",
    "driver.get(webpage)\n",
    "\n",
    "try:\n",
    "    # This is important to ensure that the webpage has rendered.\n",
    "    table = WebDriverWait(driver, 10).until(\n",
    "        EC.presence_of_element_located((By.CLASS_NAME, \"rt-tbody\")))\n",
    "    \n",
    "    # Show 100 rows\n",
    "    select = Select(driver.find_element_by_xpath('//*[@id=\"content\"]/div[2]/div[2]/div/div[2]/div/div[2]/span[2]/select'))\n",
    "    select.select_by_value('100')\n",
    "    \n",
    "    page = 1\n",
    "    while page <= 10:    \n",
    "        print(\"Scraping Page: {}\".format(page))\n",
    "        \n",
    "        page_source = driver.page_source\n",
    "        soup = BeautifulSoup(page_source, 'html.parser')\n",
    "        \n",
    "        if page == 1:\n",
    "            create_headers(soup)\n",
    "        scrape_data(soup)\n",
    "        \n",
    "        show_more = WebDriverWait(driver, 3).until(\n",
    "            EC.element_to_be_clickable((By.CLASS_NAME, \"-next\")))\n",
    "        show_more.click()\n",
    "        page += 1\n",
    "\n",
    "\n",
    "    print(\"Pages scraped: {}\".format(page-1))\n",
    "    print('Complete')\n",
    "\n",
    "except NoSuchElementException:\n",
    "    print(\"Table not found. Closing application.\")\n",
    "    \n",
    "finally:\n",
    "    driver.quit()"
   ]
  },
  {
   "cell_type": "code",
   "execution_count": 6,
   "metadata": {},
   "outputs": [],
   "source": [
    "df = pd.read_csv('Fortune500.csv', index_col=False)"
   ]
  },
  {
   "cell_type": "code",
   "execution_count": 7,
   "metadata": {},
   "outputs": [
    {
     "output_type": "execute_result",
     "data": {
      "text/plain": "    Rank                   name Revenues ($M) Revenue Percent Change  \\\n95    96       Northrop Grumman        $33841                  12.4%   \n96    97  Capital One Financial        $33766                   4.3%   \n97    98     Plains GP Holdings        $33669                  -1.1%   \n98    99                 AbbVie        $33266                   1.6%   \n99   100                 StoneX        $32897                  19.1%   \n\n   Profits ($M) Profits Percent Change Assets ($M)  \\\n95        $2248                 -30.4%      $41089   \n96        $5546                  -7.8%     $390365   \n97         $331                  -0.9%      $29969   \n98        $7882                  38.6%      $89115   \n99        $85.1                  53.3%     $9936.1   \n\n   Market Value — as of March 31 2020 ($M) Change in Rank (Full 1000)  \\\n95                                $50718.6                         12   \n96                                $23063.2                          1   \n97                                 $1021.8                         -4   \n98                               $112507.7                         -3   \n99                                  $699.9                         12   \n\n    Employees Change in Rank (500 only)  \n95      90000                        12  \n96      51900                         1  \n97       5000                        -4  \n98      30000                        -3  \n99       2012                        12  ",
      "text/html": "<div>\n<style scoped>\n    .dataframe tbody tr th:only-of-type {\n        vertical-align: middle;\n    }\n\n    .dataframe tbody tr th {\n        vertical-align: top;\n    }\n\n    .dataframe thead th {\n        text-align: right;\n    }\n</style>\n<table border=\"1\" class=\"dataframe\">\n  <thead>\n    <tr style=\"text-align: right;\">\n      <th></th>\n      <th>Rank</th>\n      <th>name</th>\n      <th>Revenues ($M)</th>\n      <th>Revenue Percent Change</th>\n      <th>Profits ($M)</th>\n      <th>Profits Percent Change</th>\n      <th>Assets ($M)</th>\n      <th>Market Value — as of March 31 2020 ($M)</th>\n      <th>Change in Rank (Full 1000)</th>\n      <th>Employees</th>\n      <th>Change in Rank (500 only)</th>\n    </tr>\n  </thead>\n  <tbody>\n    <tr>\n      <th>95</th>\n      <td>96</td>\n      <td>Northrop Grumman</td>\n      <td>$33841</td>\n      <td>12.4%</td>\n      <td>$2248</td>\n      <td>-30.4%</td>\n      <td>$41089</td>\n      <td>$50718.6</td>\n      <td>12</td>\n      <td>90000</td>\n      <td>12</td>\n    </tr>\n    <tr>\n      <th>96</th>\n      <td>97</td>\n      <td>Capital One Financial</td>\n      <td>$33766</td>\n      <td>4.3%</td>\n      <td>$5546</td>\n      <td>-7.8%</td>\n      <td>$390365</td>\n      <td>$23063.2</td>\n      <td>1</td>\n      <td>51900</td>\n      <td>1</td>\n    </tr>\n    <tr>\n      <th>97</th>\n      <td>98</td>\n      <td>Plains GP Holdings</td>\n      <td>$33669</td>\n      <td>-1.1%</td>\n      <td>$331</td>\n      <td>-0.9%</td>\n      <td>$29969</td>\n      <td>$1021.8</td>\n      <td>-4</td>\n      <td>5000</td>\n      <td>-4</td>\n    </tr>\n    <tr>\n      <th>98</th>\n      <td>99</td>\n      <td>AbbVie</td>\n      <td>$33266</td>\n      <td>1.6%</td>\n      <td>$7882</td>\n      <td>38.6%</td>\n      <td>$89115</td>\n      <td>$112507.7</td>\n      <td>-3</td>\n      <td>30000</td>\n      <td>-3</td>\n    </tr>\n    <tr>\n      <th>99</th>\n      <td>100</td>\n      <td>StoneX</td>\n      <td>$32897</td>\n      <td>19.1%</td>\n      <td>$85.1</td>\n      <td>53.3%</td>\n      <td>$9936.1</td>\n      <td>$699.9</td>\n      <td>12</td>\n      <td>2012</td>\n      <td>12</td>\n    </tr>\n  </tbody>\n</table>\n</div>"
     },
     "metadata": {},
     "execution_count": 7
    }
   ],
   "source": [
    "df.tail()"
   ]
  },
  {
   "cell_type": "markdown",
   "metadata": {},
   "source": [
    "## 2. Get additional data columns from company specific website on Fortune"
   ]
  },
  {
   "cell_type": "code",
   "execution_count": 8,
   "metadata": {},
   "outputs": [],
   "source": [
    "def initialise_header(rows,financials):\n",
    "    with open ('Fortune500-2.csv','w') as r:\n",
    "        for row in rows:\n",
    "            data = row.find_all('div')\n",
    "            heading = data[0].text\n",
    "            r.write(heading)\n",
    "            r.write(',')\n",
    "        for financial in financials:\n",
    "            heading = financial.find('div').text\n",
    "            if ',' in heading:\n",
    "                heading = heading.replace(',','')\n",
    "            r.write(heading)\n",
    "            r.write(',')\n",
    "        r.write('\\n')"
   ]
  },
  {
   "cell_type": "code",
   "execution_count": 9,
   "metadata": {},
   "outputs": [],
   "source": [
    "def scrape_page_data(rows,financials):\n",
    "     with open ('Fortune500-2.csv','a') as r:\n",
    "            for row in rows:\n",
    "                data = row.find_all('div')\n",
    "                heading = data[0].text\n",
    "                if heading == 'Website':\n",
    "                    col = row.a.text\n",
    "                else:\n",
    "                    col = data[-1].text\n",
    "\n",
    "                if ',' in col:\n",
    "                    col = col.replace(',','')\n",
    "                r.write(col)\n",
    "                r.write(',')\n",
    "                \n",
    "            for financial in financials:\n",
    "                value = financial.find('div', class_='dataTable__value--2wIAD').text\n",
    "                if ',' in value:\n",
    "                    value = value.replace(',','')\n",
    "                r.write(value)\n",
    "                r.write(',')\n",
    "            r.write('\\n')"
   ]
  },
  {
   "cell_type": "code",
   "execution_count": 10,
   "metadata": {},
   "outputs": [],
   "source": [
    "def store_failed_scrapes(failed_scrapes):\n",
    "    '''\n",
    "    This function shouldn't run with the new method. i.e. extracting url from 'next' pagination, instead of 'guessing' url from company name.\n",
    "    AT&T is just ATT,\n",
    "    Amazon.com is just Amazon\n",
    "    Tapestry is actually Coach'''\n",
    "\n",
    "    if os.path.exists('Fortune500-2-failed.csv'):\n",
    "        with open ('Fortune500-2-failed.csv','a') as r:\n",
    "            for company in failed_scrapes:\n",
    "                r.write(company)\n",
    "                r.write('\\n')\n",
    "        \n",
    "    else:\n",
    "        with open ('Fortune500-2-failed.csv','w') as r:\n",
    "            for company in failed_scrapes:\n",
    "                r.write(company)\n",
    "                r.write('\\n')"
   ]
  },
  {
   "cell_type": "code",
   "execution_count": 11,
   "metadata": {},
   "outputs": [
    {
     "output_type": "error",
     "ename": "NoSuchWindowException",
     "evalue": "Message: no such window: window was already closed\n  (Session info: chrome=84.0.4147.125)\n",
     "traceback": [
      "\u001b[0;31m---------------------------------------------------------------------------\u001b[0m",
      "\u001b[0;31mNoSuchWindowException\u001b[0m                     Traceback (most recent call last)",
      "\u001b[0;32m<ipython-input-11-1a34307013dc>\u001b[0m in \u001b[0;36m<module>\u001b[0;34m\u001b[0m\n\u001b[1;32m     19\u001b[0m     \u001b[0;32mfor\u001b[0m \u001b[0mi\u001b[0m \u001b[0;32min\u001b[0m \u001b[0mrange\u001b[0m\u001b[0;34m(\u001b[0m\u001b[0;36m1000\u001b[0m\u001b[0;34m)\u001b[0m\u001b[0;34m:\u001b[0m\u001b[0;34m\u001b[0m\u001b[0;34m\u001b[0m\u001b[0m\n\u001b[1;32m     20\u001b[0m \u001b[0;31m#         print(webpage)\u001b[0m\u001b[0;34m\u001b[0m\u001b[0;34m\u001b[0m\u001b[0;34m\u001b[0m\u001b[0m\n\u001b[0;32m---> 21\u001b[0;31m         \u001b[0mdriver\u001b[0m\u001b[0;34m.\u001b[0m\u001b[0mget\u001b[0m\u001b[0;34m(\u001b[0m\u001b[0mwebpage\u001b[0m\u001b[0;34m)\u001b[0m\u001b[0;34m\u001b[0m\u001b[0;34m\u001b[0m\u001b[0m\n\u001b[0m\u001b[1;32m     22\u001b[0m \u001b[0;34m\u001b[0m\u001b[0m\n\u001b[1;32m     23\u001b[0m         \u001b[0;31m# This is important to ensure that the webpage loads all of the data\u001b[0m\u001b[0;34m\u001b[0m\u001b[0;34m\u001b[0m\u001b[0;34m\u001b[0m\u001b[0m\n",
      "\u001b[0;32m~/anaconda3/lib/python3.7/site-packages/selenium/webdriver/remote/webdriver.py\u001b[0m in \u001b[0;36mget\u001b[0;34m(self, url)\u001b[0m\n\u001b[1;32m    331\u001b[0m         \u001b[0mLoads\u001b[0m \u001b[0ma\u001b[0m \u001b[0mweb\u001b[0m \u001b[0mpage\u001b[0m \u001b[0;32min\u001b[0m \u001b[0mthe\u001b[0m \u001b[0mcurrent\u001b[0m \u001b[0mbrowser\u001b[0m \u001b[0msession\u001b[0m\u001b[0;34m.\u001b[0m\u001b[0;34m\u001b[0m\u001b[0;34m\u001b[0m\u001b[0m\n\u001b[1;32m    332\u001b[0m         \"\"\"\n\u001b[0;32m--> 333\u001b[0;31m         \u001b[0mself\u001b[0m\u001b[0;34m.\u001b[0m\u001b[0mexecute\u001b[0m\u001b[0;34m(\u001b[0m\u001b[0mCommand\u001b[0m\u001b[0;34m.\u001b[0m\u001b[0mGET\u001b[0m\u001b[0;34m,\u001b[0m \u001b[0;34m{\u001b[0m\u001b[0;34m'url'\u001b[0m\u001b[0;34m:\u001b[0m \u001b[0murl\u001b[0m\u001b[0;34m}\u001b[0m\u001b[0;34m)\u001b[0m\u001b[0;34m\u001b[0m\u001b[0;34m\u001b[0m\u001b[0m\n\u001b[0m\u001b[1;32m    334\u001b[0m \u001b[0;34m\u001b[0m\u001b[0m\n\u001b[1;32m    335\u001b[0m     \u001b[0;34m@\u001b[0m\u001b[0mproperty\u001b[0m\u001b[0;34m\u001b[0m\u001b[0;34m\u001b[0m\u001b[0m\n",
      "\u001b[0;32m~/anaconda3/lib/python3.7/site-packages/selenium/webdriver/remote/webdriver.py\u001b[0m in \u001b[0;36mexecute\u001b[0;34m(self, driver_command, params)\u001b[0m\n\u001b[1;32m    319\u001b[0m         \u001b[0mresponse\u001b[0m \u001b[0;34m=\u001b[0m \u001b[0mself\u001b[0m\u001b[0;34m.\u001b[0m\u001b[0mcommand_executor\u001b[0m\u001b[0;34m.\u001b[0m\u001b[0mexecute\u001b[0m\u001b[0;34m(\u001b[0m\u001b[0mdriver_command\u001b[0m\u001b[0;34m,\u001b[0m \u001b[0mparams\u001b[0m\u001b[0;34m)\u001b[0m\u001b[0;34m\u001b[0m\u001b[0;34m\u001b[0m\u001b[0m\n\u001b[1;32m    320\u001b[0m         \u001b[0;32mif\u001b[0m \u001b[0mresponse\u001b[0m\u001b[0;34m:\u001b[0m\u001b[0;34m\u001b[0m\u001b[0;34m\u001b[0m\u001b[0m\n\u001b[0;32m--> 321\u001b[0;31m             \u001b[0mself\u001b[0m\u001b[0;34m.\u001b[0m\u001b[0merror_handler\u001b[0m\u001b[0;34m.\u001b[0m\u001b[0mcheck_response\u001b[0m\u001b[0;34m(\u001b[0m\u001b[0mresponse\u001b[0m\u001b[0;34m)\u001b[0m\u001b[0;34m\u001b[0m\u001b[0;34m\u001b[0m\u001b[0m\n\u001b[0m\u001b[1;32m    322\u001b[0m             response['value'] = self._unwrap_value(\n\u001b[1;32m    323\u001b[0m                 response.get('value', None))\n",
      "\u001b[0;32m~/anaconda3/lib/python3.7/site-packages/selenium/webdriver/remote/errorhandler.py\u001b[0m in \u001b[0;36mcheck_response\u001b[0;34m(self, response)\u001b[0m\n\u001b[1;32m    240\u001b[0m                 \u001b[0malert_text\u001b[0m \u001b[0;34m=\u001b[0m \u001b[0mvalue\u001b[0m\u001b[0;34m[\u001b[0m\u001b[0;34m'alert'\u001b[0m\u001b[0;34m]\u001b[0m\u001b[0;34m.\u001b[0m\u001b[0mget\u001b[0m\u001b[0;34m(\u001b[0m\u001b[0;34m'text'\u001b[0m\u001b[0;34m)\u001b[0m\u001b[0;34m\u001b[0m\u001b[0;34m\u001b[0m\u001b[0m\n\u001b[1;32m    241\u001b[0m             \u001b[0;32mraise\u001b[0m \u001b[0mexception_class\u001b[0m\u001b[0;34m(\u001b[0m\u001b[0mmessage\u001b[0m\u001b[0;34m,\u001b[0m \u001b[0mscreen\u001b[0m\u001b[0;34m,\u001b[0m \u001b[0mstacktrace\u001b[0m\u001b[0;34m,\u001b[0m \u001b[0malert_text\u001b[0m\u001b[0;34m)\u001b[0m\u001b[0;34m\u001b[0m\u001b[0;34m\u001b[0m\u001b[0m\n\u001b[0;32m--> 242\u001b[0;31m         \u001b[0;32mraise\u001b[0m \u001b[0mexception_class\u001b[0m\u001b[0;34m(\u001b[0m\u001b[0mmessage\u001b[0m\u001b[0;34m,\u001b[0m \u001b[0mscreen\u001b[0m\u001b[0;34m,\u001b[0m \u001b[0mstacktrace\u001b[0m\u001b[0;34m)\u001b[0m\u001b[0;34m\u001b[0m\u001b[0;34m\u001b[0m\u001b[0m\n\u001b[0m\u001b[1;32m    243\u001b[0m \u001b[0;34m\u001b[0m\u001b[0m\n\u001b[1;32m    244\u001b[0m     \u001b[0;32mdef\u001b[0m \u001b[0m_value_or_default\u001b[0m\u001b[0;34m(\u001b[0m\u001b[0mself\u001b[0m\u001b[0;34m,\u001b[0m \u001b[0mobj\u001b[0m\u001b[0;34m,\u001b[0m \u001b[0mkey\u001b[0m\u001b[0;34m,\u001b[0m \u001b[0mdefault\u001b[0m\u001b[0;34m)\u001b[0m\u001b[0;34m:\u001b[0m\u001b[0;34m\u001b[0m\u001b[0;34m\u001b[0m\u001b[0m\n",
      "\u001b[0;31mNoSuchWindowException\u001b[0m: Message: no such window: window was already closed\n  (Session info: chrome=84.0.4147.125)\n"
     ]
    }
   ],
   "source": [
    "'''\n",
    "This method would be a lot faster if we store the urls in a list, and then use BS4 in future to extract \n",
    "directly from the html, as opposed to using Selenium to render each page. \n",
    "Sadly, we need the page to render to get the next url...\n",
    "However, this is still a better solution than just 'guessing' the url. It makes the method a lot more \n",
    "robust for changes in the different years.\n",
    "'''\n",
    "\n",
    "path = \"/Users/hongbinlin/Downloads/chromedriver\"\n",
    "driver = webdriver.Chrome(path)\n",
    "\n",
    "try:\n",
    "    failed_scrapes = []\n",
    "    company = 'Walmart'\n",
    "    webpage = \"https://fortune.com/company/{}/fortune500/\".format(company)\n",
    "    \n",
    "# This range will scrape n number of pages(max = 1000), \n",
    "# given that company variable is Walmart ie. 1st position\n",
    "    for i in range(1000):\n",
    "#         print(webpage)\n",
    "        driver.get(webpage)\n",
    "\n",
    "        # This is important to ensure that the webpage loads all of the data\n",
    "        try:\n",
    "            temp = WebDriverWait(driver, 5).until(\n",
    "                EC.presence_of_element_located((By.CLASS_NAME, \"info__wrapper--1CxpW\")))\n",
    "\n",
    "        except:\n",
    "#             This won't run as company variable is no longer in a list\n",
    "#             failed_scrapes.append(company)\n",
    "            continue\n",
    "            \n",
    "        page_source = driver.page_source\n",
    "        soup = BeautifulSoup(page_source, 'html.parser')\n",
    "        information = soup.find('div', class_='info__wrapper--1CxpW')\n",
    "        rows = information.find_all('div', class_='info__row--7f9lE')\n",
    "        financials = soup.find_all('div', class_='dataTable__row--3ws_o')\n",
    "\n",
    "        if i == 0:\n",
    "            initialise_header(rows,financials)\n",
    "        \n",
    "        scrape_page_data(rows,financials)\n",
    "\n",
    "        pagination = soup.find('div', class_='companySinglePagination__paginationWrapper--2m5Dj')\n",
    "        urls = pagination.find_all('a', href=True)\n",
    "        next_page = urls[-1]['href']\n",
    "        webpage = next_page\n",
    "        \n",
    "finally:\n",
    "    driver.quit()\n",
    "#     store_failed_scrapes(failed_scrapes)"
   ]
  },
  {
   "cell_type": "markdown",
   "metadata": {},
   "source": [
    "## 3. Data cleaning"
   ]
  },
  {
   "cell_type": "code",
   "execution_count": 12,
   "metadata": {},
   "outputs": [],
   "source": [
    "dollar_cols = ['Revenues ($M)',\n",
    "               'Profits ($M)', \n",
    "               'Assets ($M)',\n",
    "               'Market Value — as of March 31 2020 ($M)']"
   ]
  },
  {
   "cell_type": "code",
   "execution_count": 13,
   "metadata": {
    "scrolled": true,
    "tags": []
   },
   "outputs": [
    {
     "output_type": "stream",
     "name": "stdout",
     "text": "Revenues ($M)\nProfits ($M)\nAssets ($M)\nMarket Value — as of March 31 2020 ($M)\n"
    }
   ],
   "source": [
    "for col in dollar_cols:\n",
    "    try:\n",
    "        df[col] = df[col].str.replace('-','0')\n",
    "        df[col] = df[col].str.replace('$','').astype('float')\n",
    "        print(col)\n",
    "    except:\n",
    "        continue"
   ]
  }
 ],
 "metadata": {
  "kernelspec": {
   "display_name": "Python 3.7.6 64-bit ('base': conda)",
   "language": "python",
   "name": "python_defaultSpec_1597353908128"
  },
  "language_info": {
   "codemirror_mode": {
    "name": "ipython",
    "version": 3
   },
   "file_extension": ".py",
   "mimetype": "text/x-python",
   "name": "python",
   "nbconvert_exporter": "python",
   "pygments_lexer": "ipython3",
   "version": "3.7.6-final"
  }
 },
 "nbformat": 4,
 "nbformat_minor": 4
}