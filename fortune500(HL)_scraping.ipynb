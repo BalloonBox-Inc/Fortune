{
 "cells": [
  {
   "cell_type": "code",
   "execution_count": 1,
   "metadata": {},
   "outputs": [],
   "source": [
    "#Author: @michaelbrink\n",
    "#Org: BalloonBox Inc."
   ]
  },
  {
   "cell_type": "code",
   "execution_count": 2,
   "metadata": {},
   "outputs": [],
   "source": [
    "from bs4 import BeautifulSoup\n",
    "import requests\n",
    "import json\n",
    "from html.parser import HTMLParser\n",
    "import urllib.request\n",
    "import string\n",
    "import random\n",
    "import re\n",
    "import pandas as pd"
   ]
  },
  {
   "cell_type": "code",
   "execution_count": 3,
   "metadata": {},
   "outputs": [],
   "source": [
    "#Need a JS enabled web service\n",
    "from selenium import webdriver\n",
    "from selenium.webdriver.common.action_chains import ActionChains\n",
    "import selenium.webdriver.chrome.service as service\n",
    "from selenium.webdriver.chrome.options import Options\n",
    "import time"
   ]
  },
  {
   "cell_type": "code",
   "execution_count": 4,
   "metadata": {},
   "outputs": [],
   "source": [
    "options = Options()"
   ]
  },
  {
   "cell_type": "code",
   "execution_count": 5,
   "metadata": {},
   "outputs": [],
   "source": [
    "options.add_argument(\"--disable-notifications\")"
   ]
  },
  {
   "cell_type": "code",
   "execution_count": 6,
   "metadata": {},
   "outputs": [],
   "source": [
    "driver = webdriver.Chrome('/Users/hongbinlin/Downloads/chromedriver',options=options)"
   ]
  },
  {
   "cell_type": "markdown",
   "metadata": {},
   "source": [
    "# Helper Functions"
   ]
  },
  {
   "cell_type": "code",
   "execution_count": 7,
   "metadata": {},
   "outputs": [],
   "source": [
    "def ceoFounder():\n",
    "    driver.find_element_by_xpath(\n",
    "        \"//div[@class='input__inputWrapper--3SQdx searchFilters__filter--3igRc input__input--34yMC input__checkbox--1434-']/label[@for='ceofounder']\").click()\n",
    "    time.sleep(15)"
   ]
  },
  {
   "cell_type": "code",
   "execution_count": 8,
   "metadata": {},
   "outputs": [],
   "source": [
    "def femaleCEO():\n",
    "    driver.find_element_by_xpath(\n",
    "        \"//div[@class='input__inputWrapper--3SQdx searchFilters__filter--3igRc input__input--34yMC input__checkbox--1434-']/label[@for='ceowoman']\").click()\n",
    "    time.sleep(15)"
   ]
  },
  {
   "cell_type": "code",
   "execution_count": 9,
   "metadata": {},
   "outputs": [],
   "source": [
    "def pageTurner():\n",
    "    driver.find_element_by_xpath(\"//div[@class='-next']\").click()\n",
    "    time.sleep(15)"
   ]
  },
  {
   "cell_type": "markdown",
   "metadata": {},
   "source": [
    "## Scrape rows of companies data"
   ]
  },
  {
   "cell_type": "code",
   "execution_count": 10,
   "metadata": {},
   "outputs": [],
   "source": [
    "def contentScraper():\n",
    "    content = BeautifulSoup(driver.page_source, 'html.parser')\n",
    "    example = content.find_all('a', attrs={'class':'searchResults__cellWrapper--39MAj'})\n",
    "    example = [item.string for item in example] #return a list of all singular elements\n",
    "    example = [example[i:i + 11] for i in range(0, len(example), 11)]\n",
    "    return(example)"
   ]
  },
  {
   "cell_type": "markdown",
   "metadata": {},
   "source": [
    "## Creating a nested frame of data"
   ]
  },
  {
   "cell_type": "markdown",
   "metadata": {},
   "source": [
    "## Loop to scrape"
   ]
  },
  {
   "cell_type": "code",
   "execution_count": 11,
   "metadata": {
    "tags": []
   },
   "outputs": [],
   "source": [
    " def web_scraping(func=0):\n",
    "    #date range = 2017 - 2020\n",
    "    #row range = 10 - 100\n",
    "    #page range = depends on how many pages it has\n",
    "    # func = ceoFounder or femaleCEO or empty\n",
    "\n",
    "    outputContent = []\n",
    "\n",
    "    ## Pilot model\n",
    "    for year in range(2017, 2021): \n",
    "        \n",
    "        URL = \"https://fortune.com/fortune500/\"+str(year)+\"/search/\"\n",
    "        driver.get(URL)\n",
    "        time.sleep(15)\n",
    "        print (\"Year \" + str(year) + \" active!\")\n",
    "        \n",
    "        # Check if it has the filter\n",
    "        try:\n",
    "            driver.find_element_by_xpath(\"//label[@for='ceowoman']\")\n",
    "            check_bool = True\n",
    "        except:\n",
    "            check_bool = False\n",
    "        print(check_bool)\n",
    "        print(func!=0)\n",
    "        if (not check_bool) and (func!=0):\n",
    "            print('Skip this year')\n",
    "            continue\n",
    "        else:\n",
    "            print('Continue this year')\n",
    "            pass\n",
    "\n",
    "        # Set any desired filters\n",
    "        if func!=0:\n",
    "            func()\n",
    "            print (\"Filter Actived!\")\n",
    "        \n",
    "        # expand rows to maximum\n",
    "        driver.find_element_by_xpath(\"//select[@aria-label='rows per page']/option[@value='100']\").click()\n",
    "        print (\"Rows extended\")\n",
    "        time.sleep(15)\n",
    "\n",
    "        # Locate the number of page\n",
    "        pages  = driver.find_element_by_xpath(\"//span[@class='-pageInfo']/span[@class='-totalPages']\").text\n",
    "        pages = int(pages)\n",
    "        print(\"The total number of pages is: \",pages)\n",
    "        \n",
    "        for page in range (1, pages+1):\n",
    "\n",
    "            outputContent.append((year, page, contentScraper()))\n",
    "            print(\"Page \" + str(page) + \" completed\")\n",
    "\n",
    "            #increment/update the page\n",
    "            pageTurner()\n",
    "            \n",
    "        print (\"Year \" + str(year) + \" completed\")\n",
    "\n",
    "    return(outputContent)"
   ]
  },
  {
   "cell_type": "code",
   "execution_count": 12,
   "metadata": {
    "tags": []
   },
   "outputs": [
    {
     "output_type": "stream",
     "name": "stdout",
     "text": "Year 2017 active!\nFalse\nTrue\nSkip this year\nYear 2018 active!\nTrue\nTrue\nContinue this year\nFilter Actived!\nRows extended\nThe total number of pages is:  1\nPage 1 completed\nYear 2018 completed\nYear 2019 active!\nTrue\nTrue\nContinue this year\nFilter Actived!\nRows extended\nThe total number of pages is:  1\nPage 1 completed\nYear 2019 completed\nYear 2020 active!\nTrue\nTrue\nContinue this year\nFilter Actived!\nRows extended\nThe total number of pages is:  1\nPage 1 completed\nYear 2020 completed\n"
    }
   ],
   "source": [
    "content = web_scraping(ceoFounder)"
   ]
  },
  {
   "cell_type": "markdown",
   "metadata": {},
   "source": [
    "## Convert nested list to dataframe"
   ]
  },
  {
   "cell_type": "code",
   "execution_count": 13,
   "metadata": {},
   "outputs": [],
   "source": [
    "tempcontent = content.copy()"
   ]
  },
  {
   "cell_type": "code",
   "execution_count": 14,
   "metadata": {},
   "outputs": [],
   "source": [
    "columns =['Rank',\n",
    "             'Name',\n",
    "             'Revenue ($M)',\n",
    "             'Revenue % change', \n",
    "             'Profit ($M)',\n",
    "             'Profit % change',\n",
    "             'Assets ($M)',\n",
    "             'Market Value ($M)',\n",
    "             'Change in rank (1000)',\n",
    "             'Employees',\n",
    "             'Change in rank (500)',\n",
    "             'Year']"
   ]
  },
  {
   "cell_type": "code",
   "execution_count": 15,
   "metadata": {},
   "outputs": [],
   "source": [
    "df = pd.DataFrame(columns=columns)"
   ]
  },
  {
   "cell_type": "code",
   "execution_count": 16,
   "metadata": {},
   "outputs": [
    {
     "output_type": "execute_result",
     "data": {
      "text/plain": "Empty DataFrame\nColumns: [Rank, Name, Revenue ($M), Revenue % change, Profit ($M), Profit % change, Assets ($M), Market Value ($M), Change in rank (1000), Employees, Change in rank (500), Year]\nIndex: []",
      "text/html": "<div>\n<style scoped>\n    .dataframe tbody tr th:only-of-type {\n        vertical-align: middle;\n    }\n\n    .dataframe tbody tr th {\n        vertical-align: top;\n    }\n\n    .dataframe thead th {\n        text-align: right;\n    }\n</style>\n<table border=\"1\" class=\"dataframe\">\n  <thead>\n    <tr style=\"text-align: right;\">\n      <th></th>\n      <th>Rank</th>\n      <th>Name</th>\n      <th>Revenue ($M)</th>\n      <th>Revenue % change</th>\n      <th>Profit ($M)</th>\n      <th>Profit % change</th>\n      <th>Assets ($M)</th>\n      <th>Market Value ($M)</th>\n      <th>Change in rank (1000)</th>\n      <th>Employees</th>\n      <th>Change in rank (500)</th>\n      <th>Year</th>\n    </tr>\n  </thead>\n  <tbody>\n  </tbody>\n</table>\n</div>"
     },
     "metadata": {},
     "execution_count": 16
    }
   ],
   "source": [
    "df"
   ]
  },
  {
   "cell_type": "code",
   "execution_count": 17,
   "metadata": {
    "tags": []
   },
   "outputs": [],
   "source": [
    "''' !!!!!!! For ceoFounder and female CEO !!!!!!! '''\n",
    "# 3 levels\n",
    "# tempContent[i][0] == year ; i = 0, 1, 2 \n",
    "# tempContent [i][2][j] == row ; j = 0, 1, 2, ..., n\n",
    "# tempcontent [i][2][j][k] == element ; k = range (0, 11) ## Will not use this, grab entire\n",
    "\n",
    "counter = 0\n",
    "for i in range(0, 3):\n",
    "    for j in range (0, len(tempcontent[i][2])):\n",
    "        tempcontent[i][2][j].append(tempcontent[i][0])\n",
    "        df.loc[counter] = tempcontent[i][2][j]\n",
    "        counter +=1"
   ]
  },
  {
   "cell_type": "code",
   "execution_count": 18,
   "metadata": {},
   "outputs": [
    {
     "output_type": "execute_result",
     "data": {
      "text/plain": "' !!!!!!! For no filter !!!!!!! '"
     },
     "metadata": {},
     "execution_count": 18
    }
   ],
   "source": [
    "''' !!!!!!! For no filter !!!!!!! '''\n",
    "# 3 levels\n",
    "# tempContent[i][0] == year ; i = 0, 1, 2 \n",
    "# tempContent [i][2][j] == row ; j =  0, 1, 2, ..., n\n",
    "# tempcontent [i][2][j][k] == element ; k = range (0, 11) ## Will not use this, grab entire\n",
    "\n",
    "# counter = 0\n",
    "# for i in range(0, 40):\n",
    "#     for j in range (0, len(tempcontent[i][2])):\n",
    "#         tempcontent[i][2][j].append(tempcontent[i][0])\n",
    "#         df.loc[counter] = tempcontent[i][2][j]\n",
    "#         counter +=1"
   ]
  },
  {
   "cell_type": "code",
   "execution_count": 19,
   "metadata": {},
   "outputs": [
    {
     "output_type": "execute_result",
     "data": {
      "text/plain": "['22',\n 'Alphabet',\n '$110,855.00',\n '22.8%',\n '$12,662.00',\n '-35%',\n '$197,295.00',\n '$719,123.60',\n '5',\n '80,110',\n '5',\n 2018]"
     },
     "metadata": {},
     "execution_count": 19
    }
   ],
   "source": [
    "content[0][2][0]"
   ]
  },
  {
   "cell_type": "code",
   "execution_count": 20,
   "metadata": {},
   "outputs": [
    {
     "output_type": "execute_result",
     "data": {
      "text/plain": "['22',\n 'Alphabet',\n '$110,855.00',\n '22.8%',\n '$12,662.00',\n '-35%',\n '$197,295.00',\n '$719,123.60',\n '5',\n '80,110',\n '5',\n 2018]"
     },
     "metadata": {},
     "execution_count": 20
    }
   ],
   "source": [
    "tempcontent[0][2][0]"
   ]
  },
  {
   "cell_type": "code",
   "execution_count": 21,
   "metadata": {},
   "outputs": [
    {
     "output_type": "execute_result",
     "data": {
      "text/plain": "(107, 12)"
     },
     "metadata": {},
     "execution_count": 21
    }
   ],
   "source": [
    "df.shape"
   ]
  },
  {
   "cell_type": "code",
   "execution_count": 22,
   "metadata": {},
   "outputs": [
    {
     "output_type": "execute_result",
     "data": {
      "text/plain": "  Rank                   Name Revenue ($M) Revenue % change Profit ($M)  \\\n0   22               Alphabet  $110,855.00            22.8%  $12,662.00   \n1   50                  FedEx   $60,319.00            19.8%   $2,997.00   \n2   76               Facebook   $40,653.00            47.1%  $15,934.00   \n3  101  Capital One Financial   $29,999.00               9%   $1,982.00   \n4  231               L Brands   $12,632.40             0.5%        $983   \n\n  Profit % change  Assets ($M) Market Value ($M) Change in rank (1000)  \\\n0            -35%  $197,295.00       $719,123.60                     5   \n1           64.7%   $48,552.00        $64,161.00                     8   \n2             56%   $84,524.00       $464,190.10                    22   \n3          -47.2%  $365,693.00        $46,583.90                    -1   \n4          -15.1%    $8,149.00        $10,655.20                   -11   \n\n  Employees Change in rank (500)  Year  \n0    80,110                    5  2018  \n1   357,000                    8  2018  \n2    25,105                   22  2018  \n3    49,300                   -1  2018  \n4    59,200                  -11  2018  ",
      "text/html": "<div>\n<style scoped>\n    .dataframe tbody tr th:only-of-type {\n        vertical-align: middle;\n    }\n\n    .dataframe tbody tr th {\n        vertical-align: top;\n    }\n\n    .dataframe thead th {\n        text-align: right;\n    }\n</style>\n<table border=\"1\" class=\"dataframe\">\n  <thead>\n    <tr style=\"text-align: right;\">\n      <th></th>\n      <th>Rank</th>\n      <th>Name</th>\n      <th>Revenue ($M)</th>\n      <th>Revenue % change</th>\n      <th>Profit ($M)</th>\n      <th>Profit % change</th>\n      <th>Assets ($M)</th>\n      <th>Market Value ($M)</th>\n      <th>Change in rank (1000)</th>\n      <th>Employees</th>\n      <th>Change in rank (500)</th>\n      <th>Year</th>\n    </tr>\n  </thead>\n  <tbody>\n    <tr>\n      <th>0</th>\n      <td>22</td>\n      <td>Alphabet</td>\n      <td>$110,855.00</td>\n      <td>22.8%</td>\n      <td>$12,662.00</td>\n      <td>-35%</td>\n      <td>$197,295.00</td>\n      <td>$719,123.60</td>\n      <td>5</td>\n      <td>80,110</td>\n      <td>5</td>\n      <td>2018</td>\n    </tr>\n    <tr>\n      <th>1</th>\n      <td>50</td>\n      <td>FedEx</td>\n      <td>$60,319.00</td>\n      <td>19.8%</td>\n      <td>$2,997.00</td>\n      <td>64.7%</td>\n      <td>$48,552.00</td>\n      <td>$64,161.00</td>\n      <td>8</td>\n      <td>357,000</td>\n      <td>8</td>\n      <td>2018</td>\n    </tr>\n    <tr>\n      <th>2</th>\n      <td>76</td>\n      <td>Facebook</td>\n      <td>$40,653.00</td>\n      <td>47.1%</td>\n      <td>$15,934.00</td>\n      <td>56%</td>\n      <td>$84,524.00</td>\n      <td>$464,190.10</td>\n      <td>22</td>\n      <td>25,105</td>\n      <td>22</td>\n      <td>2018</td>\n    </tr>\n    <tr>\n      <th>3</th>\n      <td>101</td>\n      <td>Capital One Financial</td>\n      <td>$29,999.00</td>\n      <td>9%</td>\n      <td>$1,982.00</td>\n      <td>-47.2%</td>\n      <td>$365,693.00</td>\n      <td>$46,583.90</td>\n      <td>-1</td>\n      <td>49,300</td>\n      <td>-1</td>\n      <td>2018</td>\n    </tr>\n    <tr>\n      <th>4</th>\n      <td>231</td>\n      <td>L Brands</td>\n      <td>$12,632.40</td>\n      <td>0.5%</td>\n      <td>$983</td>\n      <td>-15.1%</td>\n      <td>$8,149.00</td>\n      <td>$10,655.20</td>\n      <td>-11</td>\n      <td>59,200</td>\n      <td>-11</td>\n      <td>2018</td>\n    </tr>\n  </tbody>\n</table>\n</div>"
     },
     "metadata": {},
     "execution_count": 22
    }
   ],
   "source": [
    "df.head()"
   ]
  },
  {
   "cell_type": "markdown",
   "metadata": {},
   "source": [
    "# Save dataset into csv files"
   ]
  },
  {
   "cell_type": "code",
   "execution_count": 23,
   "metadata": {},
   "outputs": [],
   "source": [
    "# df.to_excel(\"forbes2017-2020_femaleceo.xlsx\")\n",
    "# df.to_excel(\"forbes2017-2020_ceofounder.xlsx\")\n",
    "# df.to_excel(\"forbes2017-2020_nofilter.xlsx\")"
   ]
  }
 ],
 "metadata": {
  "kernelspec": {
   "display_name": "Python 3.7.6 64-bit ('anaconda3': virtualenv)",
   "language": "python",
   "name": "python_defaultSpec_1596053309893"
  },
  "language_info": {
   "codemirror_mode": {
    "name": "ipython",
    "version": 3
   },
   "file_extension": ".py",
   "mimetype": "text/x-python",
   "name": "python",
   "nbconvert_exporter": "python",
   "pygments_lexer": "ipython3",
   "version": "3.7.6-final"
  }
 },
 "nbformat": 4,
 "nbformat_minor": 2
}