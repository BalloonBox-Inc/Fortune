{
 "cells": [
  {
   "cell_type": "code",
   "execution_count": 1,
   "metadata": {},
   "outputs": [],
   "source": [
    "#Author: @michaelbrink\n",
    "#Org: BalloonBox Inc."
   ]
  },
  {
   "cell_type": "code",
   "execution_count": 2,
   "metadata": {},
   "outputs": [],
   "source": [
    "from bs4 import BeautifulSoup\n",
    "import requests\n",
    "import json\n",
    "from html.parser import HTMLParser\n",
    "import urllib.request\n",
    "import string\n",
    "import random\n",
    "import re\n",
    "import pandas as pd"
   ]
  },
  {
   "cell_type": "code",
   "execution_count": 3,
   "metadata": {},
   "outputs": [],
   "source": [
    "#Need a JS enabled web service\n",
    "from selenium import webdriver\n",
    "from selenium.webdriver.common.action_chains import ActionChains\n",
    "import selenium.webdriver.chrome.service as service\n",
    "from selenium.webdriver.chrome.options import Options\n",
    "import time"
   ]
  },
  {
   "cell_type": "code",
   "execution_count": 4,
   "metadata": {},
   "outputs": [],
   "source": [
    "options = Options()"
   ]
  },
  {
   "cell_type": "code",
   "execution_count": 5,
   "metadata": {},
   "outputs": [],
   "source": [
    "options.add_argument(\"--disable-notifications\")"
   ]
  },
  {
   "cell_type": "code",
   "execution_count": 6,
   "metadata": {},
   "outputs": [],
   "source": [
    "driver = webdriver.Chrome('/Users/hongbinlin/Downloads/chromedriver',options=options)"
   ]
  },
  {
   "cell_type": "code",
   "execution_count": 7,
   "metadata": {},
   "outputs": [],
   "source": [
    "# URL = \"https://fortune.com/fortune500/2020/search/\"\n",
    "# driver.get(URL)\n",
    "# content = BeautifulSoup(driver.page_source, 'html.parser')\n",
    "# time.sleep(10) #bypass cloudflare"
   ]
  },
  {
   "cell_type": "markdown",
   "metadata": {},
   "source": [
    "# Helper Functions"
   ]
  },
  {
   "cell_type": "code",
   "execution_count": 8,
   "metadata": {},
   "outputs": [],
   "source": [
    "def ceoFounder():\n",
    "    driver.find_element_by_xpath(\n",
    "        \"//div[@class='input__inputWrapper--3SQdx searchFilters__filter--3igRc input__input--34yMC input__checkbox--1434-']/label[@for='ceofounder']\").click()\n",
    "    time.sleep(15)"
   ]
  },
  {
   "cell_type": "code",
   "execution_count": 9,
   "metadata": {},
   "outputs": [],
   "source": [
    "def femaleCEO():\n",
    "    driver.find_element_by_xpath(\n",
    "        \"//div[@class='input__inputWrapper--3SQdx searchFilters__filter--3igRc input__input--34yMC input__checkbox--1434-']/label[@for='ceowoman']\").click()\n",
    "    time.sleep(15)"
   ]
  },
  {
   "cell_type": "code",
   "execution_count": 10,
   "metadata": {},
   "outputs": [],
   "source": [
    "def pageTurner():\n",
    "    driver.find_element_by_xpath(\"//div[@class='-next']\").click()\n",
    "    time.sleep(15)"
   ]
  },
  {
   "cell_type": "markdown",
   "metadata": {},
   "source": [
    "## Scrape rows of companies data"
   ]
  },
  {
   "cell_type": "code",
   "execution_count": 11,
   "metadata": {},
   "outputs": [],
   "source": [
    "def contentScraper():\n",
    "    content = BeautifulSoup(driver.page_source, 'html.parser')\n",
    "    example = content.find_all('a', attrs={'class':'searchResults__cellWrapper--39MAj'})\n",
    "    example = [item.string for item in example] #return a list of all singular elements\n",
    "    example = [example[i:i + 11] for i in range(0, len(example), 11)]\n",
    "    return(example)"
   ]
  },
  {
   "cell_type": "markdown",
   "metadata": {},
   "source": [
    "## Creating a nested frame of data"
   ]
  },
  {
   "cell_type": "markdown",
   "metadata": {},
   "source": [
    "## Loop to scrape"
   ]
  },
  {
   "cell_type": "code",
   "execution_count": 26,
   "metadata": {
    "tags": []
   },
   "outputs": [],
   "source": [
    " def web_scraping(func=0):\n",
    "    #date range = 2017 - 2020\n",
    "    #row range = 10 - 100\n",
    "    #page range = depends on how many pages it has\n",
    "    # func = ceoFounder or femaleCEO or empty\n",
    "\n",
    "    outputContent = []\n",
    "\n",
    "    ## Pilot model\n",
    "    for year in range(2017, 2021): \n",
    "        \n",
    "        URL = \"https://fortune.com/fortune500/\"+str(year)+\"/search/\"\n",
    "        driver.get(URL)\n",
    "        time.sleep(15)\n",
    "        print (\"Year \" + str(year) + \" active!\")\n",
    "        \n",
    "        # Check if it has the filter\n",
    "        try:\n",
    "            driver.find_element_by_xpath(\"//label[@for='ceowoman']\")\n",
    "            check_bool = True\n",
    "        except:\n",
    "            check_bool = False\n",
    "        print(check_bool)\n",
    "        print(func!=0)\n",
    "        if (not check_bool) and (func!=0):\n",
    "            print('Skip this year')\n",
    "            continue\n",
    "        else:\n",
    "            print('Continue this year')\n",
    "            pass\n",
    "\n",
    "        # Set any desired filters\n",
    "        if func!=0:\n",
    "            func()\n",
    "            print (\"Filter Actived!\")\n",
    "        \n",
    "        # expand rows to maximum\n",
    "        driver.find_element_by_xpath(\"//select[@aria-label='rows per page']/option[@value='100']\").click()\n",
    "        print (\"Rows extended\")\n",
    "        time.sleep(15)\n",
    "\n",
    "        # Locate the number of page\n",
    "        pages  = driver.find_element_by_xpath(\"//span[@class='-pageInfo']/span[@class='-totalPages']\").text\n",
    "        pages = int(pages)\n",
    "        print(\"The total number of pages is: \",pages)\n",
    "        \n",
    "        for page in range (1, pages+1):\n",
    "\n",
    "            outputContent.append((year, page, contentScraper()))\n",
    "            print(\"Page \" + str(page) + \" completed\")\n",
    "\n",
    "            #increment/update the page\n",
    "            pageTurner()\n",
    "            \n",
    "        print (\"Year \" + str(year) + \" completed\")\n",
    "\n",
    "    return(outputContent)"
   ]
  },
  {
   "cell_type": "code",
   "execution_count": 27,
   "metadata": {
    "tags": []
   },
   "outputs": [
    {
     "output_type": "stream",
     "name": "stdout",
     "text": "Year 2017 active!\nFalse\nFalse\nRows extended\nThe total number of pages is:  10\nPage 1 completed\nPage 2 completed\nPage 3 completed\nPage 4 completed\nPage 5 completed\nPage 6 completed\nPage 7 completed\nPage 8 completed\nPage 9 completed\nPage 10 completed\nYear 2017 completed\nYear 2018 active!\nTrue\nFalse\nRows extended\nThe total number of pages is:  10\nPage 1 completed\nPage 2 completed\nPage 3 completed\nPage 4 completed\nPage 5 completed\nPage 6 completed\nPage 7 completed\nPage 8 completed\nPage 9 completed\nPage 10 completed\nYear 2018 completed\nYear 2019 active!\nTrue\nFalse\nRows extended\nThe total number of pages is:  10\nPage 1 completed\nPage 2 completed\nPage 3 completed\nPage 4 completed\nPage 5 completed\nPage 6 completed\nPage 7 completed\nPage 8 completed\nPage 9 completed\nPage 10 completed\nYear 2019 completed\nYear 2020 active!\nTrue\nFalse\nRows extended\nThe total number of pages is:  10\nPage 1 completed\nPage 2 completed\nPage 3 completed\nPage 4 completed\nPage 5 completed\nPage 6 completed\nPage 7 completed\nPage 8 completed\nPage 9 completed\nPage 10 completed\nYear 2020 completed\n"
    }
   ],
   "source": [
    "content = web_scraping()"
   ]
  },
  {
   "cell_type": "code",
   "execution_count": 28,
   "metadata": {},
   "outputs": [
    {
     "output_type": "execute_result",
     "data": {
      "text/plain": "40"
     },
     "metadata": {},
     "execution_count": 28
    }
   ],
   "source": [
    "len(content)"
   ]
  },
  {
   "cell_type": "code",
   "execution_count": 32,
   "metadata": {},
   "outputs": [
    {
     "output_type": "execute_result",
     "data": {
      "text/plain": "(2018,\n 1,\n [['1',\n   'Walmart',\n   '$500,343.00',\n   '3%',\n   '$9,862.00',\n   '-27.7%',\n   '$204,522.00',\n   '$263,563.10',\n   '-',\n   '2,300,000',\n   '-'],\n  ['2',\n   'Exxon Mobil',\n   '$244,363.00',\n   '17.4%',\n   '$19,710.00',\n   '151.4%',\n   '$348,691.00',\n   '$316,157.10',\n   '2',\n   '71,200',\n   '2'],\n  ['3',\n   'Berkshire Hathaway',\n   '$242,137.00',\n   '8.3%',\n   '$44,940.00',\n   '86.7%',\n   '$702,095.00',\n   '$492,008.40',\n   '-1',\n   '377,000',\n   '-1'],\n  ['4',\n   'Apple',\n   '$229,234.00',\n   '6.3%',\n   '$48,351.00',\n   '5.8%',\n   '$375,319.00',\n   '$851,317.90',\n   '-1',\n   '123,000',\n   '-1'],\n  ['5',\n   'UnitedHealth Group',\n   '$201,159.00',\n   '8.8%',\n   '$10,558.00',\n   '50.5%',\n   '$139,058.00',\n   '$207,079.90',\n   '1',\n   '260,000',\n   '1'],\n  ['6',\n   'McKesson',\n   '$198,533.00',\n   '3.1%',\n   '$5,070.00',\n   '124.5%',\n   '$60,969.00',\n   '$29,067.00',\n   '-1',\n   '64,500',\n   '-1'],\n  ['7',\n   'CVS Health',\n   '$184,765.00',\n   '4.1%',\n   '$6,622.00',\n   '24.5%',\n   '$95,131.00',\n   '$63,114.00',\n   '-',\n   '203,000',\n   '-'],\n  ['8',\n   'Amazon.com',\n   '$177,866.00',\n   '30.8%',\n   '$3,033.00',\n   '27.9%',\n   '$131,310.00',\n   '$700,667.70',\n   '4',\n   '566,000',\n   '4'],\n  ['9',\n   'AT&T',\n   '$160,546.00',\n   '-2%',\n   '$29,450.00',\n   '127%',\n   '$444,097.00',\n   '$218,945.60',\n   '-',\n   '254,000',\n   '-'],\n  ['10',\n   'General Motors',\n   '$157,311.00',\n   '-5.5%',\n   '$-3,864.00',\n   '-141%',\n   '$212,482.00',\n   '$50,971.60',\n   '-2',\n   '180,000',\n   '-2'],\n  ['11',\n   'Ford Motor',\n   '$156,776.00',\n   '3.3%',\n   '$7,602.00',\n   '65.4%',\n   '$257,808.00',\n   '$44,244.30',\n   '-1',\n   '202,000',\n   '-1'],\n  ['12',\n   'AmerisourceBergen',\n   '$153,143.80',\n   '4.3%',\n   '$364.5',\n   '-74.5%',\n   '$35,316.50',\n   '$18,937.70',\n   '-1',\n   '19,500',\n   '-1'],\n  ['13',\n   'Chevron',\n   '$134,533.00',\n   '25.1%',\n   '$9,195.00',\n   '-',\n   '$253,806.00',\n   '$217,845.30',\n   '6',\n   '51,900',\n   '6'],\n  ['14',\n   'Cardinal Health',\n   '$129,976.00',\n   '6.9%',\n   '$1,288.00',\n   '-9.7%',\n   '$40,112.00',\n   '$19,725.80',\n   '1',\n   '40,400',\n   '1'],\n  ['15',\n   'Costco',\n   '$129,025.00',\n   '8.7%',\n   '$2,679.00',\n   '14%',\n   '$36,347.00',\n   '$82,686.90',\n   '1',\n   '182,000',\n   '1'],\n  ['16',\n   'Verizon',\n   '$126,034.00',\n   '0.0%',\n   '$30,101.00',\n   '129.3%',\n   '$257,143.00',\n   '$197,496.60',\n   '-2',\n   '155,400',\n   '-2'],\n  ['17',\n   'Kroger',\n   '$122,662.00',\n   '6.4%',\n   '$1,907.00',\n   '-3.4%',\n   '$37,197.00',\n   '$20,827.80',\n   '1',\n   '449,000',\n   '1'],\n  ['18',\n   'General Electric',\n   '$122,274.00',\n   '-3.5%',\n   '$-5,786.00',\n   '-165.5%',\n   '$377,945.00',\n   '$117,053.70',\n   '-5',\n   '313,000',\n   '-5'],\n  ['19',\n   'Walgreens Boots Alliance',\n   '$118,214.00',\n   '0.7%',\n   '$4,078.00',\n   '-2.3%',\n   '$66,009.00',\n   '$64,924.30',\n   '-2',\n   '290,000',\n   '-2'],\n  ['20',\n   'JPMorgan Chase',\n   '$113,899.00',\n   '8%',\n   '$24,441.00',\n   '-1.2%',\n   '$2,533,600.00',\n   '$375,042.90',\n   '1',\n   '252,539',\n   '1'],\n  ['21',\n   'Fannie Mae',\n   '$112,394.00',\n   '4.9%',\n   '$2,463.00',\n   '-80%',\n   '$3,345,529.00',\n   '$1,632.90',\n   '-1',\n   '7,200',\n   '-1'],\n  ['22',\n   'Alphabet',\n   '$110,855.00',\n   '22.8%',\n   '$12,662.00',\n   '-35%',\n   '$197,295.00',\n   '$719,123.60',\n   '5',\n   '80,110',\n   '5'],\n  ['23',\n   'Home Depot',\n   '$100,904.00',\n   '6.7%',\n   '$8,630.00',\n   '8.5%',\n   '$44,529.00',\n   '$206,271.70',\n   '-',\n   '413,000',\n   '-'],\n  ['24',\n   'Bank of America Corp.',\n   '$100,264.00',\n   '7%',\n   '$18,232.00',\n   '1.8%',\n   '$2,281,234.00',\n   '$306,618.40',\n   '2',\n   '209,376',\n   '2'],\n  ['25',\n   'Express Scripts Holding',\n   '$100,064.60',\n   '-0.2%',\n   '$4,517.40',\n   '32.7%',\n   '$54,255.80',\n   '$38,790.60',\n   '-3',\n   '26,600',\n   '-3'],\n  ['26',\n   'Wells Fargo',\n   '$97,741.00',\n   '3.8%',\n   '$22,183.00',\n   '1.1%',\n   '$1,951,757.00',\n   '$255,556.00',\n   '-1',\n   '262,700',\n   '-1'],\n  ['27',\n   'Boeing',\n   '$93,392.00',\n   '-1.2%',\n   '$8,197.00',\n   '67.5%',\n   '$92,333.00',\n   '$192,539.10',\n   '-3',\n   '140,800',\n   '-3'],\n  ['28',\n   'Phillips 66',\n   '$91,568.00',\n   '26.5%',\n   '$5,106.00',\n   '228.4%',\n   '$54,371.00',\n   '$44,729.90',\n   '6',\n   '14,600',\n   '6'],\n  ['29',\n   'Anthem',\n   '$90,039.40',\n   '6.1%',\n   '$3,842.80',\n   '55.6%',\n   '$70,540.00',\n   '$56,182.10',\n   '-',\n   '56,000',\n   '-'],\n  ['30',\n   'Microsoft',\n   '$89,950.00',\n   '5.4%',\n   '$21,204.00',\n   '26.2%',\n   '$241,086.00',\n   '$702,760.10',\n   '-2',\n   '124,000',\n   '-2'],\n  ['31',\n   'Valero Energy',\n   '$88,407.00',\n   '26%',\n   '$4,065.00',\n   '77.6%',\n   '$50,158.00',\n   '$39,976.70',\n   '6',\n   '10,015',\n   '6'],\n  ['32',\n   'Citigroup',\n   '$87,966.00',\n   '6.8%',\n   '$-6,798.00',\n   '-145.6%',\n   '$1,842,465.00',\n   '$172,822.00',\n   '-2',\n   '209,000',\n   '-2'],\n  ['33',\n   'Comcast',\n   '$84,526.00',\n   '5.1%',\n   '$22,714.00',\n   '161.2%',\n   '$186,949.00',\n   '$158,702.80',\n   '-2',\n   '164,000',\n   '-2'],\n  ['34',\n   'IBM',\n   '$79,139.00',\n   '-1%',\n   '$5,753.00',\n   '-51.5%',\n   '$125,356.00',\n   '$141,334.80',\n   '-2',\n   '366,000',\n   '-2'],\n  ['35',\n   'Dell Technologies',\n   '$78,660.00',\n   '21.4%',\n   '$-3,728.00',\n   '-',\n   '$122,281.00',\n   '-',\n   '6',\n   '145,000',\n   '6'],\n  ['36',\n   'State Farm Insurance Cos.',\n   '$78,330.80',\n   '2.9%',\n   '$2,206.50',\n   '529.9%',\n   '$272,345.20',\n   '-',\n   '-3',\n   '65,664',\n   '-3'],\n  ['37',\n   'Johnson & Johnson',\n   '$76,450.00',\n   '6.3%',\n   '$1,300.00',\n   '-92.1%',\n   '$157,303.00',\n   '$343,780.30',\n   '-2',\n   '134,000',\n   '-2'],\n  ['38',\n   'Freddie Mac',\n   '$74,676.00',\n   '13.7%',\n   '$5,625.00',\n   '-28%',\n   '$2,049,776.00',\n   '$877.6',\n   '1',\n   '6,165',\n   '1'],\n  ['39',\n   'Target',\n   '$71,879.00',\n   '3.4%',\n   '$2,934.00',\n   '7.2%',\n   '$38,999.00',\n   '$37,408.60',\n   '-1',\n   '345,000',\n   '-1'],\n  ['40',\n   \"Lowe's\",\n   '$68,619.00',\n   '5.5%',\n   '$3,447.00',\n   '11.4%',\n   '$35,291.00',\n   '$72,811.50',\n   '-',\n   '255,000',\n   '-'],\n  ['41',\n   'Marathon Petroleum',\n   '$67,610.00',\n   '21%',\n   '$3,432.00',\n   '192.3%',\n   '$49,047.00',\n   '$34,682.70',\n   '10',\n   '43,800',\n   '10'],\n  ['42',\n   'Procter & Gamble',\n   '$66,217.00',\n   '-7.7%',\n   '$15,326.00',\n   '45.9%',\n   '$120,406.00',\n   '$199,865.20',\n   '-6',\n   '95,000',\n   '-6'],\n  ['43',\n   'MetLife',\n   '$66,153.00',\n   '4.2%',\n   '$4,010.00',\n   '401.3%',\n   '$719,892.00',\n   '$47,571.50',\n   '-1',\n   '49,000',\n   '-1'],\n  ['44',\n   'UPS',\n   '$65,872.00',\n   '8.2%',\n   '$4,910.00',\n   '43.1%',\n   '$45,403.00',\n   '$90,156.10',\n   '2',\n   '346,415',\n   '2'],\n  ['45',\n   'PepsiCo',\n   '$63,525.00',\n   '1.2%',\n   '$4,857.00',\n   '-23.3%',\n   '$79,804.00',\n   '$154,932.50',\n   '-1',\n   '263,000',\n   '-1'],\n  ['46',\n   'Intel',\n   '$62,761.00',\n   '5.7%',\n   '$9,601.00',\n   '-6.9%',\n   '$123,249.00',\n   '$243,109.40',\n   '1',\n   '102,700',\n   '1'],\n  ['47',\n   'DowDuPont',\n   '$62,683.00',\n   '30.2%',\n   '$1,460.00',\n   '-66.2%',\n   '$192,164.00',\n   '$148,186.00',\n   '15',\n   '98,000',\n   '15'],\n  ['48',\n   'Archer Daniels Midland',\n   '$60,828.00',\n   '-2.4%',\n   '$1,595.00',\n   '24.7%',\n   '$39,963.00',\n   '$24,238.30',\n   '-3',\n   '31,300',\n   '-3'],\n  ['49',\n   'Aetna',\n   '$60,535.00',\n   '-4.1%',\n   '$1,904.00',\n   '-16.2%',\n   '$55,151.00',\n   '$55,229.20',\n   '-6',\n   '47,950',\n   '-6'],\n  ['50',\n   'FedEx',\n   '$60,319.00',\n   '19.8%',\n   '$2,997.00',\n   '64.7%',\n   '$48,552.00',\n   '$64,161.00',\n   '8',\n   '357,000',\n   '8'],\n  ['51',\n   'United Technologies',\n   '$59,837.00',\n   '4.5%',\n   '$4,552.00',\n   '-10%',\n   '$96,920.00',\n   '$100,666.80',\n   '-1',\n   '204,700',\n   '-1'],\n  ['52',\n   'Prudential Financial',\n   '$59,689.00',\n   '1.5%',\n   '$7,863.00',\n   '80%',\n   '$831,921.00',\n   '$43,685.80',\n   '-4',\n   '49,705',\n   '-4'],\n  ['53',\n   'Albertsons Cos.',\n   '$59,678.20',\n   '1.6%',\n   '$-373.3',\n   '-',\n   '$23,755.00',\n   '-',\n   '-4',\n   '273,000',\n   '-4'],\n  ['54',\n   'Sysco',\n   '$55,371.10',\n   '9.9%',\n   '$1,142.50',\n   '20.3%',\n   '$17,756.70',\n   '$31,294.20',\n   '3',\n   '66,500',\n   '3'],\n  ['55',\n   'Disney',\n   '$55,137.00',\n   '-0.9%',\n   '$8,980.00',\n   '-4.4%',\n   '$95,789.00',\n   '$151,029.20',\n   '-3',\n   '199,000',\n   '-3'],\n  ['56',\n   'Humana',\n   '$53,767.00',\n   '-1.1%',\n   '$2,448.00',\n   '298.7%',\n   '$27,178.00',\n   '$37,122.00',\n   '-3',\n   '45,900',\n   '-3'],\n  ['57',\n   'Pfizer',\n   '$52,546.00',\n   '-0.5%',\n   '$21,308.00',\n   '195.3%',\n   '$171,797.00',\n   '$211,115.30',\n   '-3',\n   '90,200',\n   '-3'],\n  ['58',\n   'HP',\n   '$52,056.00',\n   '7.9%',\n   '$2,526.00',\n   '1.2%',\n   '$32,913.00',\n   '$35,893.30',\n   '3',\n   '49,000',\n   '3'],\n  ['59',\n   'Lockheed Martin',\n   '$51,048.00',\n   '0.8%',\n   '$2,002.00',\n   '-62.2%',\n   '$46,521.00',\n   '$96,588.60',\n   '-3',\n   '100,000',\n   '-3'],\n  ['60',\n   'AIG',\n   '$49,520.00',\n   '-5.4%',\n   '$-6,084.00',\n   '-',\n   '$498,301.00',\n   '$49,144.70',\n   '-5',\n   '49,800',\n   '-5'],\n  ['61',\n   'Centene',\n   '$48,572.00',\n   '19.3%',\n   '$828',\n   '47.3%',\n   '$21,855.00',\n   '$18,703.50',\n   '5',\n   '33,700',\n   '5'],\n  ['62',\n   'Cisco Systems',\n   '$48,005.00',\n   '-2.5%',\n   '$9,609.00',\n   '-10.5%',\n   '$129,818.00',\n   '$206,623.30',\n   '-2',\n   '72,900',\n   '-2'],\n  ['63',\n   'HCA Healthcare',\n   '$47,653.00',\n   '6.5%',\n   '$2,216.00',\n   '-23.3%',\n   '$36,593.00',\n   '$34,165.10',\n   '-',\n   '221,491',\n   '-'],\n  ['64',\n   'Energy Transfer Equity',\n   '$47,487.00',\n   '26.6%',\n   '$954',\n   '-4.1%',\n   '$86,246.00',\n   '$15,334.70',\n   '15',\n   '29,486',\n   '15'],\n  ['65',\n   'Caterpillar',\n   '$45,462.00',\n   '18%',\n   '$754',\n   '-',\n   '$76,962.00',\n   '$88,078.10',\n   '9',\n   '98,400',\n   '9'],\n  ['66',\n   'Nationwide',\n   '$43,939.90',\n   '9.6%',\n   '$246.5',\n   '-26.2%',\n   '$221,256.90',\n   '-',\n   '2',\n   '33,135',\n   '2'],\n  ['67',\n   'Morgan Stanley',\n   '$43,642.00',\n   '15%',\n   '$6,111.00',\n   '2.2%',\n   '$851,733.00',\n   '$96,688.00',\n   '9',\n   '57,633',\n   '9'],\n  ['68',\n   'Liberty Mutual Insurance Group',\n   '$42,687.00',\n   '11.4%',\n   '$17',\n   '-98.3%',\n   '$142,502.00',\n   '-',\n   '7',\n   '50,000',\n   '7'],\n  ['69',\n   'New York Life Insurance',\n   '$42,296.00',\n   '3.7%',\n   '$1,866.90',\n   '71.6%',\n   '$303,182.80',\n   '-',\n   '-4',\n   '11,114',\n   '-4'],\n  ['70',\n   'Goldman Sachs Group',\n   '$42,254.00',\n   '12%',\n   '$4,286.00',\n   '-42.1%',\n   '$916,776.00',\n   '$95,462.50',\n   '8',\n   '36,600',\n   '8'],\n  ['71',\n   'American Airlines Group',\n   '$42,207.00',\n   '5%',\n   '$1,919.00',\n   '-28.3%',\n   '$51,396.00',\n   '$24,584.30',\n   '-4',\n   '126,600',\n   '-4'],\n  ['72',\n   'Best Buy',\n   '$42,151.00',\n   '7%',\n   '$1,000.00',\n   '-18.6%',\n   '$13,049.00',\n   '$20,459.90',\n   '-',\n   '125,000',\n   '-'],\n  ['73',\n   'Cigna',\n   '$41,616.00',\n   '4.9%',\n   '$2,237.00',\n   '19.8%',\n   '$61,753.00',\n   '$40,734.60',\n   '-3',\n   '46,000',\n   '-3'],\n  ['74',\n   'Charter Communications',\n   '$41,581.00',\n   '43.4%',\n   '$9,895.00',\n   '180.9%',\n   '$146,623.00',\n   '$80,953.70',\n   '22',\n   '94,800',\n   '22'],\n  ['75',\n   'Delta Air Lines',\n   '$41,244.00',\n   '4%',\n   '$3,577.00',\n   '-18.2%',\n   '$53,292.00',\n   '$38,745.90',\n   '-4',\n   '86,564',\n   '-4'],\n  ['76',\n   'Facebook',\n   '$40,653.00',\n   '47.1%',\n   '$15,934.00',\n   '56%',\n   '$84,524.00',\n   '$464,190.10',\n   '22',\n   '25,105',\n   '22'],\n  ['77',\n   'Honeywell International',\n   '$40,534.00',\n   '3.1%',\n   '$1,655.00',\n   '-65.6%',\n   '$59,387.00',\n   '$108,148.50',\n   '-4',\n   '131,000',\n   '-4'],\n  ['78',\n   'Merck',\n   '$40,122.00',\n   '0.8%',\n   '$2,394.00',\n   '-38.9%',\n   '$87,872.00',\n   '$146,861.50',\n   '-9',\n   '69,000',\n   '-9'],\n  ['79',\n   'Allstate',\n   '$38,524.00',\n   '5.4%',\n   '$3,189.00',\n   '69.9%',\n   '$112,422.00',\n   '$33,477.60',\n   '5',\n   '42,680',\n   '5'],\n  ['80',\n   'Tyson Foods',\n   '$38,260.00',\n   '3.7%',\n   '$1,774.00',\n   '0.3%',\n   '$28,066.00',\n   '$29,233.10',\n   '2',\n   '122,000',\n   '2'],\n  ['81',\n   'United Continental Holdings',\n   '$37,736.00',\n   '3.2%',\n   '$2,131.00',\n   '-5.8%',\n   '$42,326.00',\n   '$19,778.10',\n   '2',\n   '89,800',\n   '2'],\n  ['82',\n   'Oracle',\n   '$37,728.00',\n   '1.8%',\n   '$9,335.00',\n   '4.9%',\n   '$134,991.00',\n   '$186,765.80',\n   '-1',\n   '138,000',\n   '-1'],\n  ['83',\n   'Tech Data',\n   '$36,775.00',\n   '40.2%',\n   '$116.6',\n   '-40.2%',\n   '$12,652.60',\n   '$3,248.90',\n   '24',\n   '14,000',\n   '24'],\n  ['84',\n   'TIAA',\n   '$36,025.30',\n   '-2.9%',\n   '$1,049.70',\n   '-29.7%',\n   '$583,631.70',\n   '-',\n   '-4',\n   '16,829',\n   '-4'],\n  ['85',\n   'TJX',\n   '$35,864.70',\n   '8.1%',\n   '$2,607.90',\n   '13.5%',\n   '$14,058.00',\n   '$51,570.60',\n   '2',\n   '249,000',\n   '2'],\n  ['86',\n   'American Express',\n   '$35,583.00',\n   '5.2%',\n   '$2,736.00',\n   '-49.4%',\n   '$181,159.00',\n   '$80,234.30',\n   '-',\n   '55,000',\n   '-'],\n  ['87',\n   'Coca-Cola',\n   '$35,410.00',\n   '-15.4%',\n   '$1,248.00',\n   '-80.9%',\n   '$87,896.00',\n   '$185,207.20',\n   '-23',\n   '61,800',\n   '-23'],\n  ['88',\n   'Publix Super Markets',\n   '$34,836.80',\n   '1.6%',\n   '$2,291.90',\n   '13.1%',\n   '$18,183.50',\n   '-',\n   '-3',\n   '193,000',\n   '-3'],\n  ['89',\n   'Nike',\n   '$34,350.00',\n   '6.1%',\n   '$4,240.00',\n   '12.8%',\n   '$23,259.00',\n   '$108,093.90',\n   '-1',\n   '74,400',\n   '-1'],\n  ['90',\n   'Andeavor',\n   '$34,204.00',\n   '42.5%',\n   '$1,528.00',\n   '108.2%',\n   '$28,573.00',\n   '$15,386.00',\n   '27',\n   '14,300',\n   '27'],\n  ['91',\n   'World Fuel Services',\n   '$33,695.50',\n   '24.7%',\n   '$-170.2',\n   '-234.5%',\n   '$5,587.80',\n   '$1,660.70',\n   '12',\n   '5,000',\n   '12'],\n  ['92',\n   'Exelon',\n   '$33,531.00',\n   '6.9%',\n   '$3,770.00',\n   '232.5%',\n   '$116,700.00',\n   '$37,644.10',\n   '-3',\n   '34,621',\n   '-3'],\n  ['93',\n   'Massachusetts Mutual Life Insurance',\n   '$33,495.40',\n   '-11.4%',\n   '$513',\n   '-59.7%',\n   '$288,854.80',\n   '-',\n   '-16',\n   '11,811',\n   '-16'],\n  ['94',\n   'Rite Aid',\n   '$32,845.10',\n   '6.9%',\n   '$4.1',\n   '-97.6%',\n   '$11,593.80',\n   '$1,793.40',\n   '-3',\n   '70,430',\n   '-3'],\n  ['95',\n   'ConocoPhillips',\n   '$32,584.00',\n   '33.8%',\n   '$-855',\n   '-',\n   '$73,362.00',\n   '$69,640.70',\n   '20',\n   '11,400',\n   '20'],\n  ['96',\n   'CHS',\n   '$31,934.80',\n   '5.2%',\n   '$127.9',\n   '-69.9%',\n   '$15,973.80',\n   '-',\n   '-3',\n   '11,626',\n   '-3'],\n  ['97',\n   '3M',\n   '$31,657.00',\n   '5.1%',\n   '$4,858.00',\n   '-3.8%',\n   '$37,987.00',\n   '$130,550.30',\n   '-3',\n   '91,536',\n   '-3'],\n  ['98',\n   'Time Warner',\n   '$31,271.00',\n   '6.7%',\n   '$5,247.00',\n   '33.6%',\n   '$69,209.00',\n   '$73,758.40',\n   '-3',\n   '26,000',\n   '-3'],\n  ['99',\n   'General Dynamics',\n   '$30,973.00',\n   '-1.2%',\n   '$2,912.00',\n   '-1.5%',\n   '$35,046.00',\n   '$65,845.40',\n   '-9',\n   '98,600',\n   '-9'],\n  ['100',\n   'USAA',\n   '$30,015.80',\n   '10.6%',\n   '$2,421.90',\n   '36.1%',\n   '$155,390.50',\n   '-',\n   '2',\n   '32,705',\n   '2']])"
     },
     "metadata": {},
     "execution_count": 32
    }
   ],
   "source": [
    "content[10]"
   ]
  },
  {
   "cell_type": "code",
   "execution_count": null,
   "metadata": {},
   "outputs": [],
   "source": [
    "#outputContent[x][y][z]\n",
    "#x ranges from 20 - 59 (30 pages in total)\n",
    "#y ranges from 0 -1 (first or second tuple element where first is the year second is the row data)\n",
    "#z ranges from 0 -99 (100 rows per page in total)"
   ]
  },
  {
   "cell_type": "markdown",
   "metadata": {},
   "source": [
    "## Convert nested list to dataframe"
   ]
  },
  {
   "cell_type": "code",
   "execution_count": null,
   "metadata": {},
   "outputs": [],
   "source": [
    "import pandas as pd"
   ]
  },
  {
   "cell_type": "code",
   "execution_count": null,
   "metadata": {},
   "outputs": [],
   "source": [
    "temp = []"
   ]
  },
  {
   "cell_type": "code",
   "execution_count": null,
   "metadata": {},
   "outputs": [],
   "source": [
    "columns =['Rank',\n",
    "             'Name',\n",
    "             'Revenue ($M)',\n",
    "             'Revenue % change', \n",
    "             'Profit ($M)',\n",
    "             'Profit % change',\n",
    "             'Assets ($M)',\n",
    "             'Market Value ($M)',\n",
    "             'Employees',\n",
    "             'Change in rank (1000)',\n",
    "             'Change in rank (500)',\n",
    "             'Year']"
   ]
  },
  {
   "cell_type": "code",
   "execution_count": null,
   "metadata": {},
   "outputs": [],
   "source": [
    "df = pd.DataFrame(columns=columns)"
   ]
  },
  {
   "cell_type": "code",
   "execution_count": null,
   "metadata": {},
   "outputs": [],
   "source": [
    "'''##TO DELETE EVERY nth ITEM in a LIST\n",
    "counter=0\n",
    "for i in range(0, 40):\n",
    "    for j in range (0, 100):\n",
    "        del outputContent[i][1][j][11-1::11]\n",
    "        counter += 1'''"
   ]
  },
  {
   "cell_type": "code",
   "execution_count": null,
   "metadata": {},
   "outputs": [],
   "source": [
    "counter=0\n",
    "for i in range(0, 40):\n",
    "    for j in range (0, 100):\n",
    "        df.loc[counter] = outputContent[i][1][j][0:12]\n",
    "        counter += 1"
   ]
  },
  {
   "cell_type": "code",
   "execution_count": null,
   "metadata": {},
   "outputs": [],
   "source": [
    "#df.to_excel(\"forbes2017-2020.xlsx\")  "
   ]
  },
  {
   "cell_type": "markdown",
   "metadata": {},
   "source": [
    "# Import saved data file"
   ]
  },
  {
   "cell_type": "code",
   "execution_count": null,
   "metadata": {},
   "outputs": [],
   "source": [
    "import pandas as pd"
   ]
  },
  {
   "cell_type": "code",
   "execution_count": null,
   "metadata": {},
   "outputs": [],
   "source": [
    "df = pd.read_excel('forbes2017-2020.xlsx')"
   ]
  },
  {
   "cell_type": "markdown",
   "metadata": {},
   "source": [
    "## Data Cleaning"
   ]
  },
  {
   "cell_type": "code",
   "execution_count": null,
   "metadata": {},
   "outputs": [],
   "source": [
    "df.iloc[1001:1300].head()"
   ]
  },
  {
   "cell_type": "code",
   "execution_count": null,
   "metadata": {},
   "outputs": [],
   "source": [
    "import copy #don't point, make a copy!"
   ]
  },
  {
   "cell_type": "code",
   "execution_count": null,
   "metadata": {},
   "outputs": [],
   "source": [
    "temp_emp = copy.copy(df[1000:]['Change in rank (1000)'])"
   ]
  },
  {
   "cell_type": "code",
   "execution_count": null,
   "metadata": {},
   "outputs": [],
   "source": [
    "temp_change1000 = copy.copy(df[1000:]['Employees'])"
   ]
  },
  {
   "cell_type": "code",
   "execution_count": null,
   "metadata": {},
   "outputs": [],
   "source": [
    "df[1000:]['Employees'] = temp_emp\n",
    "df[1000:]['Change in rank (1000)'] = temp_change1000"
   ]
  },
  {
   "cell_type": "code",
   "execution_count": null,
   "metadata": {},
   "outputs": [],
   "source": [
    "df['Revenue % change'] = df['Revenue % change'].replace('[\\%,]', '', regex=True)\n",
    "df['Revenue % change'] = pd.to_numeric(df['Revenue % change'],errors='coerce').fillna('')"
   ]
  },
  {
   "cell_type": "code",
   "execution_count": null,
   "metadata": {},
   "outputs": [],
   "source": [
    "df[df.columns[4]] = df[df.columns[4]].replace('[\\$,]', '', regex=True)\n",
    "df[df.columns[4]] = pd.to_numeric(df[df.columns[4]],errors='coerce').fillna('')\n",
    "\n",
    "df[df.columns[7]] = df[df.columns[7]].replace('[\\$,]', '', regex=True)\n",
    "df[df.columns[7]] = pd.to_numeric(df[df.columns[7]],errors='coerce').fillna('')"
   ]
  },
  {
   "cell_type": "code",
   "execution_count": null,
   "metadata": {},
   "outputs": [],
   "source": [
    "#currency fields\n",
    "df[df.columns[2]] = df[df.columns[2]].replace('[\\$,]', '', regex=True).astype(float)\n",
    "#df[df.columns[4]] = df[df.columns[4]].replace('[\\$,]', '', regex=True).astype(float) #issue\n",
    "df[df.columns[6]] = df[df.columns[6]].replace('[\\$,]', '', regex=True).astype(float)\n",
    "#df[df.columns[7]] = df[df.columns[7]].replace('[\\$,]', '', regex=True).astype(float) #issue"
   ]
  },
  {
   "cell_type": "code",
   "execution_count": null,
   "metadata": {},
   "outputs": [],
   "source": [
    "df[df['Year'] == 2018].head(3)"
   ]
  },
  {
   "cell_type": "code",
   "execution_count": null,
   "metadata": {},
   "outputs": [],
   "source": [
    "df['Rank'] = df['Rank'].replace('[,]', '', regex=True)\n"
   ]
  },
  {
   "cell_type": "code",
   "execution_count": null,
   "metadata": {},
   "outputs": [],
   "source": [
    "#employees\n",
    "df['Employees'] = df['Employees'].replace('[,]', '', regex=True)\n",
    "df['Employees'] = pd.to_numeric(df['Employees'],errors='coerce').fillna('')"
   ]
  },
  {
   "cell_type": "code",
   "execution_count": null,
   "metadata": {},
   "outputs": [],
   "source": [
    "#Revenue changes\n",
    "df['Revenue % change'] = df['Revenue % change'].replace('[\\%,]', '', regex=True)\n",
    "df['Revenue % change'] = pd.to_numeric(df['Revenue % change'],errors='coerce').fillna('')\n",
    "\n",
    "df['Profit % change'] = df['Profit % change'].replace('[\\%,]', '', regex=True)\n",
    "df['Profit % change'] = pd.to_numeric(df['Profit % change'],errors='coerce').fillna('')"
   ]
  },
  {
   "cell_type": "code",
   "execution_count": null,
   "metadata": {},
   "outputs": [],
   "source": [
    "#Change in rank\n",
    "df['Change in rank (1000)'] = pd.to_numeric(df['Change in rank (1000)'],errors='coerce').fillna('0')\n",
    "df['Change in rank (500)'] = pd.to_numeric(df['Change in rank (500)'],errors='coerce').fillna('0')"
   ]
  },
  {
   "cell_type": "code",
   "execution_count": null,
   "metadata": {},
   "outputs": [],
   "source": [
    "df['Profit ($M)'] = pd.to_numeric(df['Profit ($M)'])"
   ]
  },
  {
   "cell_type": "code",
   "execution_count": null,
   "metadata": {},
   "outputs": [],
   "source": [
    "df['Market Value ($M)'] = pd.to_numeric(df['Market Value ($M)'])"
   ]
  },
  {
   "cell_type": "code",
   "execution_count": null,
   "metadata": {},
   "outputs": [],
   "source": [
    "df['Rank'] = pd.to_numeric(df['Rank'])"
   ]
  },
  {
   "cell_type": "markdown",
   "metadata": {},
   "source": [
    "# Visualization"
   ]
  },
  {
   "cell_type": "code",
   "execution_count": null,
   "metadata": {},
   "outputs": [],
   "source": [
    "import matplotlib.pyplot as plt\n",
    "import seaborn as sns\n",
    "sns.set_style('whitegrid')\n",
    "%matplotlib inline"
   ]
  },
  {
   "cell_type": "code",
   "execution_count": null,
   "metadata": {
    "tags": []
   },
   "outputs": [],
   "source": [
    "df.info()"
   ]
  },
  {
   "cell_type": "code",
   "execution_count": null,
   "metadata": {},
   "outputs": [],
   "source": [
    "sns.catplot(x=\"Market Value ($M)\", y=\"Assets ($M)\",kind='swarm', data=df[df[\"Year\"]==2020], aspect=1);"
   ]
  },
  {
   "cell_type": "code",
   "execution_count": null,
   "metadata": {},
   "outputs": [],
   "source": [
    "sns.catplot(x=\"Revenue ($M)\", y=\"Assets ($M)\",kind='swarm', data=df[df[\"Year\"]==2020], aspect=1);"
   ]
  },
  {
   "cell_type": "markdown",
   "metadata": {},
   "source": [
    "# Modelling prep"
   ]
  },
  {
   "cell_type": "code",
   "execution_count": null,
   "metadata": {},
   "outputs": [],
   "source": [
    "df.head(2)"
   ]
  },
  {
   "cell_type": "code",
   "execution_count": null,
   "metadata": {},
   "outputs": [],
   "source": [
    "df.describe()"
   ]
  },
  {
   "cell_type": "code",
   "execution_count": null,
   "metadata": {},
   "outputs": [],
   "source": [
    "dfPlot = df[(df['Year']== 2019) & (df['Employees'] < 80000) & (df['Profit ($M)'] > -10000)]"
   ]
  },
  {
   "cell_type": "code",
   "execution_count": null,
   "metadata": {},
   "outputs": [],
   "source": [
    "dfPlot = dfPlot.dropna()"
   ]
  },
  {
   "cell_type": "code",
   "execution_count": null,
   "metadata": {},
   "outputs": [],
   "source": [
    "dfPlot.shape"
   ]
  },
  {
   "cell_type": "code",
   "execution_count": null,
   "metadata": {
    "tags": []
   },
   "outputs": [],
   "source": [
    "sns.kdeplot( dfPlot['Profit ($M)'], dfPlot['Employees'],\n",
    "                 cmap=\"plasma\", shade=True, shade_lowest=False)"
   ]
  },
  {
   "cell_type": "code",
   "execution_count": null,
   "metadata": {},
   "outputs": [],
   "source": [
    "sns.kdeplot( dfPlot['Profit ($M)'], dfPlot['Assets ($M)'],\n",
    "                 cmap=\"plasma\", shade=True, shade_lowest=False)"
   ]
  },
  {
   "cell_type": "code",
   "execution_count": null,
   "metadata": {},
   "outputs": [],
   "source": [
    "sns.kdeplot( dfPlot['Revenue ($M)'], dfPlot['Market Value ($M)'],\n",
    "                 cmap=\"plasma\", shade=True, shade_lowest=False)"
   ]
  },
  {
   "cell_type": "markdown",
   "metadata": {},
   "source": [
    "## Support Vector Machine"
   ]
  },
  {
   "cell_type": "code",
   "execution_count": null,
   "metadata": {},
   "outputs": [],
   "source": [
    "from sklearn.model_selection import train_test_split"
   ]
  },
  {
   "cell_type": "code",
   "execution_count": null,
   "metadata": {},
   "outputs": [],
   "source": [
    "X.describe()"
   ]
  },
  {
   "cell_type": "code",
   "execution_count": null,
   "metadata": {},
   "outputs": [],
   "source": [
    "X = dfPlot.drop(['Rank', 'Name', 'Revenue % change','Profit % change', 'Change in rank (1000)', 'Change in rank (500)', 'Year', 'Assets ($M)'],axis=1)\n",
    "y = dfPlot['Rank']\n",
    "X_train, X_test, y_train, y_test = train_test_split(X, y, test_size=0.2, random_state=34)"
   ]
  },
  {
   "cell_type": "code",
   "execution_count": null,
   "metadata": {},
   "outputs": [],
   "source": [
    "from sklearn.linear_model import LinearRegression"
   ]
  },
  {
   "cell_type": "code",
   "execution_count": null,
   "metadata": {},
   "outputs": [],
   "source": [
    "lm = LinearRegression()"
   ]
  },
  {
   "cell_type": "code",
   "execution_count": null,
   "metadata": {},
   "outputs": [],
   "source": [
    "lm.fit(X_train,y_train)"
   ]
  },
  {
   "cell_type": "code",
   "execution_count": null,
   "metadata": {},
   "outputs": [],
   "source": [
    "predictions = lm.predict( X_test)"
   ]
  },
  {
   "cell_type": "code",
   "execution_count": null,
   "metadata": {},
   "outputs": [],
   "source": [
    "plt.scatter(y_test,predictions)\n",
    "plt.xlabel('Y Test')\n",
    "plt.ylabel('Predicted Y')"
   ]
  },
  {
   "cell_type": "code",
   "execution_count": null,
   "metadata": {
    "tags": []
   },
   "outputs": [],
   "source": [
    "from sklearn import metrics\n",
    "import numpy as np\n",
    "\n",
    "print('MAE:', metrics.mean_absolute_error(y_test, predictions))\n",
    "print('MSE:', metrics.mean_squared_error(y_test, predictions))\n",
    "print('RMSE:', np.sqrt(metrics.mean_squared_error(y_test, predictions)))"
   ]
  },
  {
   "cell_type": "code",
   "execution_count": null,
   "metadata": {},
   "outputs": [],
   "source": [
    "sns.distplot((y_test-predictions),bins=50);"
   ]
  },
  {
   "cell_type": "code",
   "execution_count": null,
   "metadata": {
    "tags": []
   },
   "outputs": [],
   "source": [
    "coeffecients = pd.DataFrame(lm.coef_,X.columns)\n",
    "coeffecients.columns = ['Coeffecient']\n",
    "coeffecients"
   ]
  },
  {
   "cell_type": "code",
   "execution_count": null,
   "metadata": {},
   "outputs": [],
   "source": []
  }
 ],
 "metadata": {
  "kernelspec": {
   "display_name": "Python 3.5.6 64-bit ('tfdeeplearning': conda)",
   "language": "python",
   "name": "python_defaultSpec_1595956526761"
  },
  "language_info": {
   "codemirror_mode": {
    "name": "ipython",
    "version": 3
   },
   "file_extension": ".py",
   "mimetype": "text/x-python",
   "name": "python",
   "nbconvert_exporter": "python",
   "pygments_lexer": "ipython3",
   "version": "3.5.6-final"
  }
 },
 "nbformat": 4,
 "nbformat_minor": 2
}