{
 "cells": [
  {
   "cell_type": "code",
   "execution_count": 1,
   "metadata": {},
   "outputs": [],
   "source": [
    "#Author: @michaelbrink\n",
    "#Org: BalloonBox Inc."
   ]
  },
  {
   "cell_type": "code",
   "execution_count": 2,
   "metadata": {},
   "outputs": [],
   "source": [
    "from bs4 import BeautifulSoup\n",
    "import requests\n",
    "import json\n",
    "from html.parser import HTMLParser\n",
    "import urllib.request\n",
    "import string\n",
    "import random\n",
    "import re\n",
    "import pandas as pd"
   ]
  },
  {
   "cell_type": "code",
   "execution_count": 3,
   "metadata": {},
   "outputs": [],
   "source": [
    "#Need a JS enabled web service\n",
    "from selenium import webdriver\n",
    "from selenium.webdriver.common.action_chains import ActionChains\n",
    "import selenium.webdriver.chrome.service as service\n",
    "from selenium.webdriver.chrome.options import Options\n",
    "import time"
   ]
  },
  {
   "cell_type": "code",
   "execution_count": 4,
   "metadata": {},
   "outputs": [],
   "source": [
    "options = Options()"
   ]
  },
  {
   "cell_type": "code",
   "execution_count": 5,
   "metadata": {},
   "outputs": [],
   "source": [
    "options.add_argument(\"--disable-notifications\")"
   ]
  },
  {
   "cell_type": "code",
   "execution_count": 6,
   "metadata": {},
   "outputs": [],
   "source": [
    "driver = webdriver.Chrome('/Users/hongbinlin/Downloads/chromedriver',options=options)"
   ]
  },
  {
   "cell_type": "code",
   "execution_count": null,
   "metadata": {},
   "outputs": [],
   "source": [
    "URL = \"https://fortune.com/fortune500/2020/search/\"\n",
    "driver.get(URL)\n",
    "content = BeautifulSoup(driver.page_source, 'html.parser')\n",
    "time.sleep(10) #bypass cloudflare"
   ]
  },
  {
   "cell_type": "markdown",
   "metadata": {},
   "source": [
    "# Helper Functions"
   ]
  },
  {
   "cell_type": "code",
   "execution_count": 7,
   "metadata": {},
   "outputs": [],
   "source": [
    "def ceoFounder():\n",
    "    driver.find_element_by_xpath(\n",
    "        \"//div[@class='input__inputWrapper--3SQdx searchFilters__filter--3igRc input__input--34yMC input__checkbox--1434-']/label[@for='ceofounder']\").click()\n",
    "    time.sleep(5)"
   ]
  },
  {
   "cell_type": "code",
   "execution_count": 8,
   "metadata": {},
   "outputs": [],
   "source": [
    "def changeTheWorld():\n",
    "    driver.find_element_by_xpath(\n",
    "        \"//div[@class='input__inputWrapper--3SQdx searchFilters__filter--3igRc input__input--34yMC input__checkbox--1434-']/label[@for='change-the-world-y-n']\").click()\n",
    "    time.sleep(5)"
   ]
  },
  {
   "cell_type": "code",
   "execution_count": 9,
   "metadata": {},
   "outputs": [],
   "source": [
    "def femaleCEO():\n",
    "    driver.find_element_by_xpath(\n",
    "        \"//div[@class='input__inputWrapper--3SQdx searchFilters__filter--3igRc input__input--34yMC input__checkbox--1434-']/label[@for='ceowoman']\").click()\n",
    "    time.sleep(5)"
   ]
  },
  {
   "cell_type": "code",
   "execution_count": 10,
   "metadata": {},
   "outputs": [],
   "source": [
    "def pageTurner():\n",
    "    driver.find_element_by_xpath(\"//div[@class='-next']\").click()"
   ]
  },
  {
   "cell_type": "markdown",
   "metadata": {},
   "source": [
    "## Scrape rows of companies data"
   ]
  },
  {
   "cell_type": "code",
   "execution_count": 11,
   "metadata": {},
   "outputs": [],
   "source": [
    "def contentScraper():\n",
    "    content = BeautifulSoup(driver.page_source, 'html.parser')\n",
    "    example = content.find_all('a', attrs={'class':'searchResults__cellWrapper--39MAj'})\n",
    "    example = [item.string for item in example] #return a list of all singular elements\n",
    "    example = [example[i:i + 11] for i in range(0, len(example), 11)]\n",
    "    return(example)"
   ]
  },
  {
   "cell_type": "markdown",
   "metadata": {},
   "source": [
    "## Creating a nested frame of data"
   ]
  },
  {
   "cell_type": "markdown",
   "metadata": {},
   "source": [
    "## Loop to scrape"
   ]
  },
  {
   "cell_type": "code",
   "execution_count": 96,
   "metadata": {
    "tags": []
   },
   "outputs": [],
   "source": [
    " def web_scraping(func=0):\n",
    "    #date range = 2017 - 2020\n",
    "    #row range = 10 - 100\n",
    "    #page range = depends on how many pages it has\n",
    "    # func = ceoFounder or femaleCEO or empty\n",
    "\n",
    "    outputContent = []\n",
    "\n",
    "    ## Pilot model\n",
    "    for year in range(2017, 2019): \n",
    "        \n",
    "        URL = \"https://fortune.com/fortune500/\"+str(year)+\"/search/\"\n",
    "        driver.get(URL)\n",
    "        #increment/update the year\n",
    "        #driver.find_element_by_link_text(str(year)).click()\n",
    "        time.sleep(10)\n",
    "        print (\"Year \" + str(year) + \" active!\")\n",
    "        \n",
    "        # Check if it has the filter\n",
    "        try:\n",
    "            driver.find_element_by_xpath(\"//label[@for='ceowoman']\")\n",
    "            check_bool = True\n",
    "        except:\n",
    "            check_bool = False\n",
    "        if not check_bool:\n",
    "            print('Skip this year')\n",
    "            time.sleep(10)\n",
    "            continue\n",
    "\n",
    "        # Set any desired filters\n",
    "        if func!=0:\n",
    "            func()\n",
    "            print (\"Filter Actived!\")\n",
    "        time.sleep(10)\n",
    "        \n",
    "        #expand rows to maximum\n",
    "        driver.find_element_by_xpath(\"//select[@aria-label='rows per page']/option[@value='100']\").click()\n",
    "        print (\"Rows extended\")\n",
    "        time.sleep(10)\n",
    "\n",
    "        # Locate the number of page\n",
    "        pages  = driver.find_element_by_xpath(\"//span[@class='-pageInfo']/span[@class='-totalPages']\").text\n",
    "        pages = int(pages)\n",
    "        print(\"The total number of pages is: \",pages)\n",
    "        \n",
    "        for page in range (1, pages+1):\n",
    "\n",
    "            outputContent.append((year, page, contentScraper()))\n",
    "            print(\"Page \" + str(page) + \" completed\")\n",
    "\n",
    "            #increment/update the page\n",
    "            pageTurner()\n",
    "            time.sleep(10)\n",
    "            \n",
    "        print (\"Year \" + str(year) + \" completed\")\n",
    "\n",
    "        return(outputContent)"
   ]
  },
  {
   "cell_type": "code",
   "execution_count": 97,
   "metadata": {
    "tags": []
   },
   "outputs": [
    {
     "output_type": "stream",
     "name": "stdout",
     "text": "Year 2017 active!\nSkip this year\nYear 2018 active!\nFilter Actived!\nRows extended\nThe total number of pages is:  1\nPage 1 completed\nYear 2018 completed\n"
    }
   ],
   "source": [
    "content = web_scraping(femaleCEO)"
   ]
  },
  {
   "cell_type": "code",
   "execution_count": null,
   "metadata": {},
   "outputs": [],
   "source": [
    "#outputContent[x][y][z]\n",
    "#x ranges from 20 - 59 (30 pages in total)\n",
    "#y ranges from 0 -1 (first or second tuple element where first is the year second is the row data)\n",
    "#z ranges from 0 -99 (100 rows per page in total)"
   ]
  },
  {
   "cell_type": "markdown",
   "metadata": {},
   "source": [
    "## Convert nested list to dataframe"
   ]
  },
  {
   "cell_type": "code",
   "execution_count": null,
   "metadata": {},
   "outputs": [],
   "source": [
    "import pandas as pd"
   ]
  },
  {
   "cell_type": "code",
   "execution_count": null,
   "metadata": {},
   "outputs": [],
   "source": [
    "temp = []"
   ]
  },
  {
   "cell_type": "code",
   "execution_count": null,
   "metadata": {},
   "outputs": [],
   "source": [
    "columns =['Rank',\n",
    "             'Name',\n",
    "             'Revenue ($M)',\n",
    "             'Revenue % change', \n",
    "             'Profit ($M)',\n",
    "             'Profit % change',\n",
    "             'Assets ($M)',\n",
    "             'Market Value ($M)',\n",
    "             'Employees',\n",
    "             'Change in rank (1000)',\n",
    "             'Change in rank (500)',\n",
    "             'Year']"
   ]
  },
  {
   "cell_type": "code",
   "execution_count": null,
   "metadata": {},
   "outputs": [],
   "source": [
    "df = pd.DataFrame(columns=columns)"
   ]
  },
  {
   "cell_type": "code",
   "execution_count": null,
   "metadata": {},
   "outputs": [],
   "source": [
    "'''##TO DELETE EVERY nth ITEM in a LIST\n",
    "counter=0\n",
    "for i in range(0, 40):\n",
    "    for j in range (0, 100):\n",
    "        del outputContent[i][1][j][11-1::11]\n",
    "        counter += 1'''"
   ]
  },
  {
   "cell_type": "code",
   "execution_count": null,
   "metadata": {},
   "outputs": [],
   "source": [
    "counter=0\n",
    "for i in range(0, 40):\n",
    "    for j in range (0, 100):\n",
    "        df.loc[counter] = outputContent[i][1][j][0:12]\n",
    "        counter += 1"
   ]
  },
  {
   "cell_type": "code",
   "execution_count": null,
   "metadata": {},
   "outputs": [],
   "source": [
    "#df.to_excel(\"forbes2017-2020.xlsx\")  "
   ]
  },
  {
   "cell_type": "markdown",
   "metadata": {},
   "source": [
    "# Import saved data file"
   ]
  },
  {
   "cell_type": "code",
   "execution_count": null,
   "metadata": {},
   "outputs": [],
   "source": [
    "import pandas as pd"
   ]
  },
  {
   "cell_type": "code",
   "execution_count": null,
   "metadata": {},
   "outputs": [],
   "source": [
    "df = pd.read_excel('forbes2017-2020.xlsx')"
   ]
  },
  {
   "cell_type": "markdown",
   "metadata": {},
   "source": [
    "## Data Cleaning"
   ]
  },
  {
   "cell_type": "code",
   "execution_count": null,
   "metadata": {},
   "outputs": [],
   "source": [
    "df.iloc[1001:1300].head()"
   ]
  },
  {
   "cell_type": "code",
   "execution_count": null,
   "metadata": {},
   "outputs": [],
   "source": [
    "import copy #don't point, make a copy!"
   ]
  },
  {
   "cell_type": "code",
   "execution_count": null,
   "metadata": {},
   "outputs": [],
   "source": [
    "temp_emp = copy.copy(df[1000:]['Change in rank (1000)'])"
   ]
  },
  {
   "cell_type": "code",
   "execution_count": null,
   "metadata": {},
   "outputs": [],
   "source": [
    "temp_change1000 = copy.copy(df[1000:]['Employees'])"
   ]
  },
  {
   "cell_type": "code",
   "execution_count": null,
   "metadata": {},
   "outputs": [],
   "source": [
    "df[1000:]['Employees'] = temp_emp\n",
    "df[1000:]['Change in rank (1000)'] = temp_change1000"
   ]
  },
  {
   "cell_type": "code",
   "execution_count": null,
   "metadata": {},
   "outputs": [],
   "source": [
    "df['Revenue % change'] = df['Revenue % change'].replace('[\\%,]', '', regex=True)\n",
    "df['Revenue % change'] = pd.to_numeric(df['Revenue % change'],errors='coerce').fillna('')"
   ]
  },
  {
   "cell_type": "code",
   "execution_count": null,
   "metadata": {},
   "outputs": [],
   "source": [
    "df[df.columns[4]] = df[df.columns[4]].replace('[\\$,]', '', regex=True)\n",
    "df[df.columns[4]] = pd.to_numeric(df[df.columns[4]],errors='coerce').fillna('')\n",
    "\n",
    "df[df.columns[7]] = df[df.columns[7]].replace('[\\$,]', '', regex=True)\n",
    "df[df.columns[7]] = pd.to_numeric(df[df.columns[7]],errors='coerce').fillna('')"
   ]
  },
  {
   "cell_type": "code",
   "execution_count": null,
   "metadata": {},
   "outputs": [],
   "source": [
    "#currency fields\n",
    "df[df.columns[2]] = df[df.columns[2]].replace('[\\$,]', '', regex=True).astype(float)\n",
    "#df[df.columns[4]] = df[df.columns[4]].replace('[\\$,]', '', regex=True).astype(float) #issue\n",
    "df[df.columns[6]] = df[df.columns[6]].replace('[\\$,]', '', regex=True).astype(float)\n",
    "#df[df.columns[7]] = df[df.columns[7]].replace('[\\$,]', '', regex=True).astype(float) #issue"
   ]
  },
  {
   "cell_type": "code",
   "execution_count": null,
   "metadata": {},
   "outputs": [],
   "source": [
    "df[df['Year'] == 2018].head(3)"
   ]
  },
  {
   "cell_type": "code",
   "execution_count": null,
   "metadata": {},
   "outputs": [],
   "source": [
    "df['Rank'] = df['Rank'].replace('[,]', '', regex=True)\n"
   ]
  },
  {
   "cell_type": "code",
   "execution_count": null,
   "metadata": {},
   "outputs": [],
   "source": [
    "#employees\n",
    "df['Employees'] = df['Employees'].replace('[,]', '', regex=True)\n",
    "df['Employees'] = pd.to_numeric(df['Employees'],errors='coerce').fillna('')"
   ]
  },
  {
   "cell_type": "code",
   "execution_count": null,
   "metadata": {},
   "outputs": [],
   "source": [
    "#Revenue changes\n",
    "df['Revenue % change'] = df['Revenue % change'].replace('[\\%,]', '', regex=True)\n",
    "df['Revenue % change'] = pd.to_numeric(df['Revenue % change'],errors='coerce').fillna('')\n",
    "\n",
    "df['Profit % change'] = df['Profit % change'].replace('[\\%,]', '', regex=True)\n",
    "df['Profit % change'] = pd.to_numeric(df['Profit % change'],errors='coerce').fillna('')"
   ]
  },
  {
   "cell_type": "code",
   "execution_count": null,
   "metadata": {},
   "outputs": [],
   "source": [
    "#Change in rank\n",
    "df['Change in rank (1000)'] = pd.to_numeric(df['Change in rank (1000)'],errors='coerce').fillna('0')\n",
    "df['Change in rank (500)'] = pd.to_numeric(df['Change in rank (500)'],errors='coerce').fillna('0')"
   ]
  },
  {
   "cell_type": "code",
   "execution_count": null,
   "metadata": {},
   "outputs": [],
   "source": [
    "df['Profit ($M)'] = pd.to_numeric(df['Profit ($M)'])"
   ]
  },
  {
   "cell_type": "code",
   "execution_count": null,
   "metadata": {},
   "outputs": [],
   "source": [
    "df['Market Value ($M)'] = pd.to_numeric(df['Market Value ($M)'])"
   ]
  },
  {
   "cell_type": "code",
   "execution_count": null,
   "metadata": {},
   "outputs": [],
   "source": [
    "df['Rank'] = pd.to_numeric(df['Rank'])"
   ]
  },
  {
   "cell_type": "markdown",
   "metadata": {},
   "source": [
    "# Visualization"
   ]
  },
  {
   "cell_type": "code",
   "execution_count": null,
   "metadata": {},
   "outputs": [],
   "source": [
    "import matplotlib.pyplot as plt\n",
    "import seaborn as sns\n",
    "sns.set_style('whitegrid')\n",
    "%matplotlib inline"
   ]
  },
  {
   "cell_type": "code",
   "execution_count": null,
   "metadata": {
    "tags": []
   },
   "outputs": [],
   "source": [
    "df.info()"
   ]
  },
  {
   "cell_type": "code",
   "execution_count": null,
   "metadata": {},
   "outputs": [],
   "source": [
    "sns.catplot(x=\"Market Value ($M)\", y=\"Assets ($M)\",kind='swarm', data=df[df[\"Year\"]==2020], aspect=1);"
   ]
  },
  {
   "cell_type": "code",
   "execution_count": null,
   "metadata": {},
   "outputs": [],
   "source": [
    "sns.catplot(x=\"Revenue ($M)\", y=\"Assets ($M)\",kind='swarm', data=df[df[\"Year\"]==2020], aspect=1);"
   ]
  },
  {
   "cell_type": "markdown",
   "metadata": {},
   "source": [
    "# Modelling prep"
   ]
  },
  {
   "cell_type": "code",
   "execution_count": null,
   "metadata": {},
   "outputs": [],
   "source": [
    "df.head(2)"
   ]
  },
  {
   "cell_type": "code",
   "execution_count": null,
   "metadata": {},
   "outputs": [],
   "source": [
    "df.describe()"
   ]
  },
  {
   "cell_type": "code",
   "execution_count": null,
   "metadata": {},
   "outputs": [],
   "source": [
    "dfPlot = df[(df['Year']== 2019) & (df['Employees'] < 80000) & (df['Profit ($M)'] > -10000)]"
   ]
  },
  {
   "cell_type": "code",
   "execution_count": null,
   "metadata": {},
   "outputs": [],
   "source": [
    "dfPlot = dfPlot.dropna()"
   ]
  },
  {
   "cell_type": "code",
   "execution_count": null,
   "metadata": {},
   "outputs": [],
   "source": [
    "dfPlot.shape"
   ]
  },
  {
   "cell_type": "code",
   "execution_count": null,
   "metadata": {
    "tags": []
   },
   "outputs": [],
   "source": [
    "sns.kdeplot( dfPlot['Profit ($M)'], dfPlot['Employees'],\n",
    "                 cmap=\"plasma\", shade=True, shade_lowest=False)"
   ]
  },
  {
   "cell_type": "code",
   "execution_count": null,
   "metadata": {},
   "outputs": [],
   "source": [
    "sns.kdeplot( dfPlot['Profit ($M)'], dfPlot['Assets ($M)'],\n",
    "                 cmap=\"plasma\", shade=True, shade_lowest=False)"
   ]
  },
  {
   "cell_type": "code",
   "execution_count": null,
   "metadata": {},
   "outputs": [],
   "source": [
    "sns.kdeplot( dfPlot['Revenue ($M)'], dfPlot['Market Value ($M)'],\n",
    "                 cmap=\"plasma\", shade=True, shade_lowest=False)"
   ]
  },
  {
   "cell_type": "markdown",
   "metadata": {},
   "source": [
    "## Support Vector Machine"
   ]
  },
  {
   "cell_type": "code",
   "execution_count": null,
   "metadata": {},
   "outputs": [],
   "source": [
    "from sklearn.model_selection import train_test_split"
   ]
  },
  {
   "cell_type": "code",
   "execution_count": null,
   "metadata": {},
   "outputs": [],
   "source": [
    "X.describe()"
   ]
  },
  {
   "cell_type": "code",
   "execution_count": null,
   "metadata": {},
   "outputs": [],
   "source": [
    "X = dfPlot.drop(['Rank', 'Name', 'Revenue % change','Profit % change', 'Change in rank (1000)', 'Change in rank (500)', 'Year', 'Assets ($M)'],axis=1)\n",
    "y = dfPlot['Rank']\n",
    "X_train, X_test, y_train, y_test = train_test_split(X, y, test_size=0.2, random_state=34)"
   ]
  },
  {
   "cell_type": "code",
   "execution_count": null,
   "metadata": {},
   "outputs": [],
   "source": [
    "from sklearn.linear_model import LinearRegression"
   ]
  },
  {
   "cell_type": "code",
   "execution_count": null,
   "metadata": {},
   "outputs": [],
   "source": [
    "lm = LinearRegression()"
   ]
  },
  {
   "cell_type": "code",
   "execution_count": null,
   "metadata": {},
   "outputs": [],
   "source": [
    "lm.fit(X_train,y_train)"
   ]
  },
  {
   "cell_type": "code",
   "execution_count": null,
   "metadata": {},
   "outputs": [],
   "source": [
    "predictions = lm.predict( X_test)"
   ]
  },
  {
   "cell_type": "code",
   "execution_count": null,
   "metadata": {},
   "outputs": [],
   "source": [
    "plt.scatter(y_test,predictions)\n",
    "plt.xlabel('Y Test')\n",
    "plt.ylabel('Predicted Y')"
   ]
  },
  {
   "cell_type": "code",
   "execution_count": null,
   "metadata": {
    "tags": []
   },
   "outputs": [],
   "source": [
    "from sklearn import metrics\n",
    "import numpy as np\n",
    "\n",
    "print('MAE:', metrics.mean_absolute_error(y_test, predictions))\n",
    "print('MSE:', metrics.mean_squared_error(y_test, predictions))\n",
    "print('RMSE:', np.sqrt(metrics.mean_squared_error(y_test, predictions)))"
   ]
  },
  {
   "cell_type": "code",
   "execution_count": null,
   "metadata": {},
   "outputs": [],
   "source": [
    "sns.distplot((y_test-predictions),bins=50);"
   ]
  },
  {
   "cell_type": "code",
   "execution_count": null,
   "metadata": {
    "tags": []
   },
   "outputs": [],
   "source": [
    "coeffecients = pd.DataFrame(lm.coef_,X.columns)\n",
    "coeffecients.columns = ['Coeffecient']\n",
    "coeffecients"
   ]
  },
  {
   "cell_type": "code",
   "execution_count": null,
   "metadata": {},
   "outputs": [],
   "source": []
  }
 ],
 "metadata": {
  "kernelspec": {
   "display_name": "Python 3.5.6 64-bit ('tfdeeplearning': conda)",
   "language": "python",
   "name": "python_defaultSpec_1595956526761"
  },
  "language_info": {
   "codemirror_mode": {
    "name": "ipython",
    "version": 3
   },
   "file_extension": ".py",
   "mimetype": "text/x-python",
   "name": "python",
   "nbconvert_exporter": "python",
   "pygments_lexer": "ipython3",
   "version": "3.5.6-final"
  }
 },
 "nbformat": 4,
 "nbformat_minor": 2
}