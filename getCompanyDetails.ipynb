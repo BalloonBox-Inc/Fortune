{
 "metadata": {
  "language_info": {
   "codemirror_mode": {
    "name": "ipython",
    "version": 3
   },
   "file_extension": ".py",
   "mimetype": "text/x-python",
   "name": "python",
   "nbconvert_exporter": "python",
   "pygments_lexer": "ipython3",
   "version": "3.5.6-final"
  },
  "orig_nbformat": 2,
  "kernelspec": {
   "name": "python_defaultSpec_1596133489866",
   "display_name": "Python 3.5.6 64-bit ('tfdeeplearning': virtualenv)"
  }
 },
 "nbformat": 4,
 "nbformat_minor": 2,
 "cells": [
  {
   "cell_type": "code",
   "execution_count": 1,
   "metadata": {},
   "outputs": [],
   "source": [
    "from bs4 import BeautifulSoup\n",
    "import requests\n",
    "import json\n",
    "from html.parser import HTMLParser\n",
    "import urllib.request\n",
    "import string\n",
    "import random\n",
    "import re\n",
    "import pandas as pd"
   ]
  },
  {
   "cell_type": "code",
   "execution_count": 2,
   "metadata": {},
   "outputs": [],
   "source": [
    "#Need a JS enabled web service\n",
    "from selenium import webdriver\n",
    "from selenium.webdriver.common.action_chains import ActionChains\n",
    "import selenium.webdriver.chrome.service as service\n",
    "from selenium.webdriver.chrome.options import Options\n",
    "import time"
   ]
  },
  {
   "cell_type": "code",
   "execution_count": 3,
   "metadata": {},
   "outputs": [],
   "source": [
    "options = Options()"
   ]
  },
  {
   "cell_type": "code",
   "execution_count": 4,
   "metadata": {},
   "outputs": [],
   "source": [
    "options.add_argument(\"--disable-notifications\")"
   ]
  },
  {
   "cell_type": "code",
   "execution_count": 6,
   "metadata": {},
   "outputs": [],
   "source": [
    "driver = webdriver.Chrome('/Users/michaelbrink/Desktop/Scraping 2/chromedriver',options=options)"
   ]
  },
  {
   "cell_type": "markdown",
   "metadata": {},
   "source": [
    "## Get companies and clean data"
   ]
  },
  {
   "cell_type": "code",
   "execution_count": 203,
   "metadata": {},
   "outputs": [],
   "source": [
    "companies = pd.read_excel('cleaned_overall_dataset.xlsx')"
   ]
  },
  {
   "cell_type": "code",
   "execution_count": 204,
   "metadata": {},
   "outputs": [],
   "source": [
    "companies['Name'] = companies['Name'].str.lower()"
   ]
  },
  {
   "cell_type": "code",
   "execution_count": 205,
   "metadata": {},
   "outputs": [],
   "source": [
    "companies['Name'] = companies['Name'].replace('j.p. morgan chase', 'jpmorgan chase')"
   ]
  },
  {
   "cell_type": "code",
   "execution_count": 206,
   "metadata": {},
   "outputs": [],
   "source": [
    "companies['Name'] = companies['Name'].replace('bank of america corp.', 'bank of america')"
   ]
  },
  {
   "cell_type": "code",
   "execution_count": 207,
   "metadata": {},
   "outputs": [],
   "source": [
    "companies['Name'] = companies['Name'].replace('albertsons', 'albertsons cos.')"
   ]
  },
  {
   "cell_type": "code",
   "execution_count": 208,
   "metadata": {},
   "outputs": [],
   "source": [
    "companies['Name'] = companies['Name'].replace('allegheny technologies', 'allegheny')"
   ]
  },
  {
   "cell_type": "markdown",
   "metadata": {},
   "source": [
    "# Cleaning"
   ]
  },
  {
   "cell_type": "code",
   "execution_count": 164,
   "metadata": {},
   "outputs": [],
   "source": [
    "#Apostrophes\n",
    "companies['Name'].replace(\"'\", \"\", inplace=True)\n",
    "\n",
    "#Ampersand with leading and trailing whitespace\n",
    "companies['Name'].replace(\" & \", \"-\", inplace=True)\n",
    "\n",
    "#Ampersand with  no leading and trailing whitespace\n",
    "companies['Name'].replace(\"&\", \"\", inplace=True)\n",
    "\n",
    "#period with trailing whitespace\n",
    "companies['Name'].replace(\". \", \"-\", inplace=True)\n",
    "\n",
    "#period (not at end of string) with no trailing whitespace\n",
    "companies['Name'].apply(lambda x: x[:-1] if x[-1]== \".\" else x)\n",
    "\n",
    "#period without trailing whitespace\n",
    "companies['Name'].replace(\".\", \"-\", inplace=True)\n",
    "\n",
    "#whitespace\n",
    "companies['Name'].replace(\" \", \"-\", inplace=True)\n"
   ]
  },
  {
   "cell_type": "code",
   "execution_count": 201,
   "metadata": {},
   "outputs": [],
   "source": [
    "companies['Name']=companies['Name'].replace('w', '-')"
   ]
  },
  {
   "cell_type": "code",
   "execution_count": 202,
   "metadata": {},
   "outputs": [
    {
     "output_type": "execute_result",
     "data": {
      "text/plain": "0     0                         -almart\\n1          ...\n1     0                         -almart\\n1          ...\n2     0                         -almart\\n1          ...\n3     0                         -almart\\n1          ...\n4     0                         -almart\\n1          ...\n5     0                         -almart\\n1          ...\n6     0                         -almart\\n1          ...\n7     0                         -almart\\n1          ...\n8     0                         -almart\\n1          ...\n9     0                         -almart\\n1          ...\n10    0                         -almart\\n1          ...\n11    0                         -almart\\n1          ...\n12    0                         -almart\\n1          ...\n13    0                         -almart\\n1          ...\n14    0                         -almart\\n1          ...\n15    0                         -almart\\n1          ...\n16    0                         -almart\\n1          ...\n17    0                         -almart\\n1          ...\n18    0                         -almart\\n1          ...\n19    0                         -almart\\n1          ...\n20    0                         -almart\\n1          ...\n21    0                         -almart\\n1          ...\n22    0                         -almart\\n1          ...\n23    0                         -almart\\n1          ...\n24    0                         -almart\\n1          ...\nName: Name, dtype: object"
     },
     "metadata": {},
     "execution_count": 202
    }
   ],
   "source": [
    "companies['Name'][:25]"
   ]
  },
  {
   "cell_type": "markdown",
   "metadata": {},
   "source": [
    "# Helper functions"
   ]
  },
  {
   "cell_type": "code",
   "execution_count": 7,
   "metadata": {},
   "outputs": [],
   "source": [
    "content = BeautifulSoup(driver.page_source, 'html.parser')"
   ]
  },
  {
   "cell_type": "code",
   "execution_count": null,
   "metadata": {},
   "outputs": [],
   "source": []
  },
  {
   "cell_type": "code",
   "execution_count": null,
   "metadata": {},
   "outputs": [],
   "source": []
  },
  {
   "cell_type": "code",
   "execution_count": null,
   "metadata": {},
   "outputs": [],
   "source": [
    "def contentScraper():\n",
    "    content = BeautifulSoup(driver.page_source, 'html.parser')\n",
    "    example = content.find_all('a', attrs={'class':'searchResults__cellWrapper--39MAj'})\n",
    "    example = [item.string for item in example] #return a list of all singular elements\n",
    "    example = [example[i:i + 11] for i in range(0, len(example), 11)]\n",
    "    return(example)"
   ]
  }
 ]
}