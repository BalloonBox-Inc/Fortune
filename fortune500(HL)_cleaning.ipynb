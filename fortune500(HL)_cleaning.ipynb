{
 "cells": [
  {
   "cell_type": "code",
   "execution_count": 1,
   "metadata": {},
   "outputs": [],
   "source": [
    "#Author: @michaelbrink\n",
    "#Org: BalloonBox Inc."
   ]
  },
  {
   "cell_type": "code",
   "execution_count": 2,
   "metadata": {},
   "outputs": [],
   "source": [
    "from bs4 import BeautifulSoup\n",
    "import requests\n",
    "import json\n",
    "from html.parser import HTMLParser\n",
    "import urllib.request\n",
    "import string\n",
    "import random\n",
    "import re\n",
    "import pandas as pd\n",
    "import numpy as np"
   ]
  },
  {
   "cell_type": "code",
   "execution_count": 3,
   "metadata": {},
   "outputs": [],
   "source": [
    "#Need a JS enabled web service\n",
    "from selenium import webdriver\n",
    "from selenium.webdriver.common.action_chains import ActionChains\n",
    "import selenium.webdriver.chrome.service as service\n",
    "from selenium.webdriver.chrome.options import Options\n",
    "import time"
   ]
  },
  {
   "cell_type": "markdown",
   "metadata": {},
   "source": [
    "# Imported the data files"
   ]
  },
  {
   "cell_type": "code",
   "execution_count": 17,
   "metadata": {},
   "outputs": [
    {
     "output_type": "execute_result",
     "data": {
      "text/plain": "  Country      Headquarters                                  Industry  \\\n0    U.S.  Bentonville Ark.                     General Merchandisers   \n1    U.S.     Seattle Wash.           Internet Services and Retailing   \n2    U.S.      Irving Texas                        Petroleum Refining   \n3    U.S.  Cupertino Calif.                Computers Office Equipment   \n4    U.S.   Woonsocket R.I.  Health Care: Pharmacy and Other Services   \n\n                   CEO                     Website Company Type Ticker  \\\n0  C. Douglas McMillon     https://www.walmart.com       Public    WMT   \n1     Jeffrey P. Bezos      https://www.amazon.com       Public   AMZN   \n2      Darren W. Woods  https://www.exxonmobil.com       Public    XOM   \n3      Timothy D. Cook       https://www.apple.com       Public   AAPL   \n4       Larry J. Merlo   https://www.cvshealth.com       Public    CVS   \n\n  Revenues ($M) Profits ($M) Market Value ($M)  ...  Profits as % of Assets  \\\n0       $523964       $14881         $321803.3  ...                    6.3%   \n1       $280522       $11588         $970680.1  ...                    5.1%   \n2       $264938       $14340         $160696.3  ...                      4%   \n3       $260174       $55256        $1112640.8  ...                   16.3%   \n4       $256776        $6634          $77375.8  ...                      3%   \n\n  Profits as % of Stockholder Equity Earnings Per Share ($)  \\\n0                              19.9%                   5.19   \n1                              18.7%                  23.01   \n2                               7.5%                   3.36   \n3                              61.1%                  11.89   \n4                              10.4%                   5.08   \n\n  EPS % Change (from 2018) EPS % Change (5 year annual rate)  \\\n0                   129.6%                              0.5%   \n1                    14.3%                                 -   \n2                   -31.1%                            -15.1%   \n3                    -0.2%                               13%   \n4                        -                              5.1%   \n\n  EPS % Change (10 year annual rate) Total Return to Investors (2019)  \\\n0                               3.4%                            30.3%   \n1                              27.4%                              23%   \n2                              -1.7%                             7.2%   \n3                              29.5%                              89%   \n4                               7.1%                            17.1%   \n\n  Total Return to Investors (5 year annualized)  \\\n0                                          9.4%   \n1                                         42.9%   \n2                                         -1.7%   \n3                                         23.7%   \n4                                         -2.8%   \n\n  Total Return to Investors (10 year annualized) Unnamed: 25  \n0                                            11%         NaN  \n1                                            30%         NaN  \n2                                           3.5%         NaN  \n3                                          27.3%         NaN  \n4                                          10.8%         NaN  \n\n[5 rows x 26 columns]",
      "text/html": "<div>\n<style scoped>\n    .dataframe tbody tr th:only-of-type {\n        vertical-align: middle;\n    }\n\n    .dataframe tbody tr th {\n        vertical-align: top;\n    }\n\n    .dataframe thead th {\n        text-align: right;\n    }\n</style>\n<table border=\"1\" class=\"dataframe\">\n  <thead>\n    <tr style=\"text-align: right;\">\n      <th></th>\n      <th>Country</th>\n      <th>Headquarters</th>\n      <th>Industry</th>\n      <th>CEO</th>\n      <th>Website</th>\n      <th>Company Type</th>\n      <th>Ticker</th>\n      <th>Revenues ($M)</th>\n      <th>Profits ($M)</th>\n      <th>Market Value ($M)</th>\n      <th>...</th>\n      <th>Profits as % of Assets</th>\n      <th>Profits as % of Stockholder Equity</th>\n      <th>Earnings Per Share ($)</th>\n      <th>EPS % Change (from 2018)</th>\n      <th>EPS % Change (5 year annual rate)</th>\n      <th>EPS % Change (10 year annual rate)</th>\n      <th>Total Return to Investors (2019)</th>\n      <th>Total Return to Investors (5 year annualized)</th>\n      <th>Total Return to Investors (10 year annualized)</th>\n      <th>Unnamed: 25</th>\n    </tr>\n  </thead>\n  <tbody>\n    <tr>\n      <th>0</th>\n      <td>U.S.</td>\n      <td>Bentonville Ark.</td>\n      <td>General Merchandisers</td>\n      <td>C. Douglas McMillon</td>\n      <td>https://www.walmart.com</td>\n      <td>Public</td>\n      <td>WMT</td>\n      <td>$523964</td>\n      <td>$14881</td>\n      <td>$321803.3</td>\n      <td>...</td>\n      <td>6.3%</td>\n      <td>19.9%</td>\n      <td>5.19</td>\n      <td>129.6%</td>\n      <td>0.5%</td>\n      <td>3.4%</td>\n      <td>30.3%</td>\n      <td>9.4%</td>\n      <td>11%</td>\n      <td>NaN</td>\n    </tr>\n    <tr>\n      <th>1</th>\n      <td>U.S.</td>\n      <td>Seattle Wash.</td>\n      <td>Internet Services and Retailing</td>\n      <td>Jeffrey P. Bezos</td>\n      <td>https://www.amazon.com</td>\n      <td>Public</td>\n      <td>AMZN</td>\n      <td>$280522</td>\n      <td>$11588</td>\n      <td>$970680.1</td>\n      <td>...</td>\n      <td>5.1%</td>\n      <td>18.7%</td>\n      <td>23.01</td>\n      <td>14.3%</td>\n      <td>-</td>\n      <td>27.4%</td>\n      <td>23%</td>\n      <td>42.9%</td>\n      <td>30%</td>\n      <td>NaN</td>\n    </tr>\n    <tr>\n      <th>2</th>\n      <td>U.S.</td>\n      <td>Irving Texas</td>\n      <td>Petroleum Refining</td>\n      <td>Darren W. Woods</td>\n      <td>https://www.exxonmobil.com</td>\n      <td>Public</td>\n      <td>XOM</td>\n      <td>$264938</td>\n      <td>$14340</td>\n      <td>$160696.3</td>\n      <td>...</td>\n      <td>4%</td>\n      <td>7.5%</td>\n      <td>3.36</td>\n      <td>-31.1%</td>\n      <td>-15.1%</td>\n      <td>-1.7%</td>\n      <td>7.2%</td>\n      <td>-1.7%</td>\n      <td>3.5%</td>\n      <td>NaN</td>\n    </tr>\n    <tr>\n      <th>3</th>\n      <td>U.S.</td>\n      <td>Cupertino Calif.</td>\n      <td>Computers Office Equipment</td>\n      <td>Timothy D. Cook</td>\n      <td>https://www.apple.com</td>\n      <td>Public</td>\n      <td>AAPL</td>\n      <td>$260174</td>\n      <td>$55256</td>\n      <td>$1112640.8</td>\n      <td>...</td>\n      <td>16.3%</td>\n      <td>61.1%</td>\n      <td>11.89</td>\n      <td>-0.2%</td>\n      <td>13%</td>\n      <td>29.5%</td>\n      <td>89%</td>\n      <td>23.7%</td>\n      <td>27.3%</td>\n      <td>NaN</td>\n    </tr>\n    <tr>\n      <th>4</th>\n      <td>U.S.</td>\n      <td>Woonsocket R.I.</td>\n      <td>Health Care: Pharmacy and Other Services</td>\n      <td>Larry J. Merlo</td>\n      <td>https://www.cvshealth.com</td>\n      <td>Public</td>\n      <td>CVS</td>\n      <td>$256776</td>\n      <td>$6634</td>\n      <td>$77375.8</td>\n      <td>...</td>\n      <td>3%</td>\n      <td>10.4%</td>\n      <td>5.08</td>\n      <td>-</td>\n      <td>5.1%</td>\n      <td>7.1%</td>\n      <td>17.1%</td>\n      <td>-2.8%</td>\n      <td>10.8%</td>\n      <td>NaN</td>\n    </tr>\n  </tbody>\n</table>\n<p>5 rows × 26 columns</p>\n</div>"
     },
     "metadata": {},
     "execution_count": 17
    }
   ],
   "source": [
    "df = pd.read_csv('Fortune500-2.csv')\n",
    "df.head()"
   ]
  },
  {
   "cell_type": "markdown",
   "metadata": {},
   "source": [
    "## Data Cleaning"
   ]
  },
  {
   "cell_type": "code",
   "execution_count": 20,
   "metadata": {
    "tags": []
   },
   "outputs": [
    {
     "output_type": "display_data",
     "data": {
      "text/plain": "  Country      Headquarters                                  Industry  \\\n0    U.S.  Bentonville Ark.                     General Merchandisers   \n1    U.S.     Seattle Wash.           Internet Services and Retailing   \n2    U.S.      Irving Texas                        Petroleum Refining   \n3    U.S.  Cupertino Calif.                Computers Office Equipment   \n4    U.S.   Woonsocket R.I.  Health Care: Pharmacy and Other Services   \n\n                   CEO                     Website Company Type Ticker  \\\n0  C. Douglas McMillon     https://www.walmart.com       Public    WMT   \n1     Jeffrey P. Bezos      https://www.amazon.com       Public   AMZN   \n2      Darren W. Woods  https://www.exxonmobil.com       Public    XOM   \n3      Timothy D. Cook       https://www.apple.com       Public   AAPL   \n4       Larry J. Merlo   https://www.cvshealth.com       Public    CVS   \n\n  Revenues ($M) Profits ($M) Market Value ($M)  ...  Profit as % of Revenues  \\\n0       $523964       $14881         $321803.3  ...                     2.8%   \n1       $280522       $11588         $970680.1  ...                     4.1%   \n2       $264938       $14340         $160696.3  ...                     5.4%   \n3       $260174       $55256        $1112640.8  ...                    21.2%   \n4       $256776        $6634          $77375.8  ...                     2.6%   \n\n  Profits as % of Assets Profits as % of Stockholder Equity  \\\n0                   6.3%                              19.9%   \n1                   5.1%                              18.7%   \n2                     4%                               7.5%   \n3                  16.3%                              61.1%   \n4                     3%                              10.4%   \n\n  Earnings Per Share ($) EPS % Change (from 2018)  \\\n0                   5.19                   129.6%   \n1                  23.01                    14.3%   \n2                   3.36                   -31.1%   \n3                  11.89                    -0.2%   \n4                   5.08                        -   \n\n  EPS % Change (5 year annual rate) EPS % Change (10 year annual rate)  \\\n0                              0.5%                               3.4%   \n1                                 -                              27.4%   \n2                            -15.1%                              -1.7%   \n3                               13%                              29.5%   \n4                              5.1%                               7.1%   \n\n  Total Return to Investors (2019)  \\\n0                            30.3%   \n1                              23%   \n2                             7.2%   \n3                              89%   \n4                            17.1%   \n\n  Total Return to Investors (5 year annualized)  \\\n0                                          9.4%   \n1                                         42.9%   \n2                                         -1.7%   \n3                                         23.7%   \n4                                         -2.8%   \n\n  Total Return to Investors (10 year annualized)  \n0                                            11%  \n1                                            30%  \n2                                           3.5%  \n3                                          27.3%  \n4                                          10.8%  \n\n[5 rows x 23 columns]",
      "text/html": "<div>\n<style scoped>\n    .dataframe tbody tr th:only-of-type {\n        vertical-align: middle;\n    }\n\n    .dataframe tbody tr th {\n        vertical-align: top;\n    }\n\n    .dataframe thead th {\n        text-align: right;\n    }\n</style>\n<table border=\"1\" class=\"dataframe\">\n  <thead>\n    <tr style=\"text-align: right;\">\n      <th></th>\n      <th>Country</th>\n      <th>Headquarters</th>\n      <th>Industry</th>\n      <th>CEO</th>\n      <th>Website</th>\n      <th>Company Type</th>\n      <th>Ticker</th>\n      <th>Revenues ($M)</th>\n      <th>Profits ($M)</th>\n      <th>Market Value ($M)</th>\n      <th>...</th>\n      <th>Profit as % of Revenues</th>\n      <th>Profits as % of Assets</th>\n      <th>Profits as % of Stockholder Equity</th>\n      <th>Earnings Per Share ($)</th>\n      <th>EPS % Change (from 2018)</th>\n      <th>EPS % Change (5 year annual rate)</th>\n      <th>EPS % Change (10 year annual rate)</th>\n      <th>Total Return to Investors (2019)</th>\n      <th>Total Return to Investors (5 year annualized)</th>\n      <th>Total Return to Investors (10 year annualized)</th>\n    </tr>\n  </thead>\n  <tbody>\n    <tr>\n      <th>0</th>\n      <td>U.S.</td>\n      <td>Bentonville Ark.</td>\n      <td>General Merchandisers</td>\n      <td>C. Douglas McMillon</td>\n      <td>https://www.walmart.com</td>\n      <td>Public</td>\n      <td>WMT</td>\n      <td>$523964</td>\n      <td>$14881</td>\n      <td>$321803.3</td>\n      <td>...</td>\n      <td>2.8%</td>\n      <td>6.3%</td>\n      <td>19.9%</td>\n      <td>5.19</td>\n      <td>129.6%</td>\n      <td>0.5%</td>\n      <td>3.4%</td>\n      <td>30.3%</td>\n      <td>9.4%</td>\n      <td>11%</td>\n    </tr>\n    <tr>\n      <th>1</th>\n      <td>U.S.</td>\n      <td>Seattle Wash.</td>\n      <td>Internet Services and Retailing</td>\n      <td>Jeffrey P. Bezos</td>\n      <td>https://www.amazon.com</td>\n      <td>Public</td>\n      <td>AMZN</td>\n      <td>$280522</td>\n      <td>$11588</td>\n      <td>$970680.1</td>\n      <td>...</td>\n      <td>4.1%</td>\n      <td>5.1%</td>\n      <td>18.7%</td>\n      <td>23.01</td>\n      <td>14.3%</td>\n      <td>-</td>\n      <td>27.4%</td>\n      <td>23%</td>\n      <td>42.9%</td>\n      <td>30%</td>\n    </tr>\n    <tr>\n      <th>2</th>\n      <td>U.S.</td>\n      <td>Irving Texas</td>\n      <td>Petroleum Refining</td>\n      <td>Darren W. Woods</td>\n      <td>https://www.exxonmobil.com</td>\n      <td>Public</td>\n      <td>XOM</td>\n      <td>$264938</td>\n      <td>$14340</td>\n      <td>$160696.3</td>\n      <td>...</td>\n      <td>5.4%</td>\n      <td>4%</td>\n      <td>7.5%</td>\n      <td>3.36</td>\n      <td>-31.1%</td>\n      <td>-15.1%</td>\n      <td>-1.7%</td>\n      <td>7.2%</td>\n      <td>-1.7%</td>\n      <td>3.5%</td>\n    </tr>\n    <tr>\n      <th>3</th>\n      <td>U.S.</td>\n      <td>Cupertino Calif.</td>\n      <td>Computers Office Equipment</td>\n      <td>Timothy D. Cook</td>\n      <td>https://www.apple.com</td>\n      <td>Public</td>\n      <td>AAPL</td>\n      <td>$260174</td>\n      <td>$55256</td>\n      <td>$1112640.8</td>\n      <td>...</td>\n      <td>21.2%</td>\n      <td>16.3%</td>\n      <td>61.1%</td>\n      <td>11.89</td>\n      <td>-0.2%</td>\n      <td>13%</td>\n      <td>29.5%</td>\n      <td>89%</td>\n      <td>23.7%</td>\n      <td>27.3%</td>\n    </tr>\n    <tr>\n      <th>4</th>\n      <td>U.S.</td>\n      <td>Woonsocket R.I.</td>\n      <td>Health Care: Pharmacy and Other Services</td>\n      <td>Larry J. Merlo</td>\n      <td>https://www.cvshealth.com</td>\n      <td>Public</td>\n      <td>CVS</td>\n      <td>$256776</td>\n      <td>$6634</td>\n      <td>$77375.8</td>\n      <td>...</td>\n      <td>2.6%</td>\n      <td>3%</td>\n      <td>10.4%</td>\n      <td>5.08</td>\n      <td>-</td>\n      <td>5.1%</td>\n      <td>7.1%</td>\n      <td>17.1%</td>\n      <td>-2.8%</td>\n      <td>10.8%</td>\n    </tr>\n  </tbody>\n</table>\n<p>5 rows × 23 columns</p>\n</div>"
     },
     "metadata": {}
    },
    {
     "output_type": "stream",
     "name": "stdout",
     "text": "<class 'pandas.core.frame.DataFrame'>\nRangeIndex: 1001 entries, 0 to 1000\nData columns (total 23 columns):\n #   Column                                          Non-Null Count  Dtype \n---  ------                                          --------------  ----- \n 0   Country                                         1001 non-null   object\n 1   Headquarters                                    1000 non-null   object\n 2   Industry                                        1001 non-null   object\n 3   CEO                                             990 non-null    object\n 4   Website                                         1001 non-null   object\n 5   Company Type                                    1001 non-null   object\n 6   Ticker                                          949 non-null    object\n 7   Revenues ($M)                                   1001 non-null   object\n 8   Profits ($M)                                    1001 non-null   object\n 9   Market Value ($M)                               1001 non-null   object\n 10  Employees                                       1001 non-null   int64 \n 11  Assets ($M)                                     1001 non-null   object\n 12  Total Stockholder Equity ($M)                   1001 non-null   object\n 13  Profit as % of Revenues                         1001 non-null   object\n 14  Profits as % of Assets                          1001 non-null   object\n 15  Profits as % of Stockholder Equity              1001 non-null   object\n 16  Earnings Per Share ($)                          1001 non-null   object\n 17  EPS % Change (from 2018)                        1001 non-null   object\n 18  EPS % Change (5 year annual rate)               1001 non-null   object\n 19  EPS % Change (10 year annual rate)              1001 non-null   object\n 20  Total Return to Investors (2019)                1001 non-null   object\n 21  Total Return to Investors (5 year annualized)   1001 non-null   object\n 22  Total Return to Investors (10 year annualized)  1001 non-null   object\ndtypes: int64(1), object(22)\nmemory usage: 180.0+ KB\n"
    }
   ],
   "source": [
    "# firstly, drop the replicated and useless columns\n",
    "df = pd.read_csv('Fortune500-2.csv')\n",
    "feature_list = df.columns\n",
    "drop_list = ['Revenues ($M).1','Profits ($M).1','Unnamed: 25']\n",
    "text_list = ['Country','Headquarters','Industry','CEO','Website','Company Type','Ticker']\n",
    "for feature in feature_list:\n",
    "    if feature in drop_list:\n",
    "        df.drop(columns=feature,inplace=True)\n",
    "    elif feature in text_list:\n",
    "        pass\n",
    "    elif:\n",
    "\n",
    "        \n",
    "display(df.head())\n",
    "df.info()"
   ]
  },
  {
   "cell_type": "code",
   "execution_count": 6,
   "metadata": {},
   "outputs": [],
   "source": [
    "# The orders of features in 2017 is different from other years, so we need to manually switch them\n",
    "temp_employees = df_all[df_all['Year']==2017]['Change in rank (1000)']\n",
    "temp_rank_1000 = df_all[df_all['Year']==2017]['Employees']\n",
    "df_all.loc[df_all['Year']==2017,'Change in rank (1000)'] = temp_rank_1000\n",
    "df_all.loc[df_all['Year']==2017,'Employees'] = temp_employees"
   ]
  },
  {
   "cell_type": "code",
   "execution_count": 7,
   "metadata": {},
   "outputs": [],
   "source": [
    "# Append the Cat column to dataFrame\n",
    "df_all['Cat'] = 'No filter'\n",
    "df_female['Cat'] = 'Female CEO'\n",
    "df_founder['Cat'] = 'Founder CEO'"
   ]
  },
  {
   "cell_type": "code",
   "execution_count": 8,
   "metadata": {},
   "outputs": [
    {
     "output_type": "execute_result",
     "data": {
      "text/plain": "  Rank                Name Revenue ($M) Revenue % change Profit ($M)  \\\n0    1             Walmart     $485,873             0.8%     $13,643   \n1    2  Berkshire Hathaway     $223,604             6.1%     $24,074   \n2    3               Apple     $215,639            -7.7%     $45,687   \n3    4         Exxon Mobil     $205,004           -16.7%      $7,840   \n4    5            McKesson     $192,487             6.2%      $2,258   \n\n  Profit % change Assets ($M) Market Value ($M) Change in rank (1000)  \\\n0           -7.2%    $198,825          $218,619                     -   \n1            0.0%    $620,854          $411,035                     2   \n2          -14.4%    $321,686          $753,718                     -   \n3          -51.5%    $330,314          $340,056                    -2   \n4             53%     $56,563           $31,439                     -   \n\n   Employees Change in rank (500)  Year        Cat  \n0  2,300,000                    -  2017  No filter  \n1    367,700                    2  2017  No filter  \n2    116,000                    -  2017  No filter  \n3     72,700                   -2  2017  No filter  \n4     68,000                    -  2017  No filter  ",
      "text/html": "<div>\n<style scoped>\n    .dataframe tbody tr th:only-of-type {\n        vertical-align: middle;\n    }\n\n    .dataframe tbody tr th {\n        vertical-align: top;\n    }\n\n    .dataframe thead th {\n        text-align: right;\n    }\n</style>\n<table border=\"1\" class=\"dataframe\">\n  <thead>\n    <tr style=\"text-align: right;\">\n      <th></th>\n      <th>Rank</th>\n      <th>Name</th>\n      <th>Revenue ($M)</th>\n      <th>Revenue % change</th>\n      <th>Profit ($M)</th>\n      <th>Profit % change</th>\n      <th>Assets ($M)</th>\n      <th>Market Value ($M)</th>\n      <th>Change in rank (1000)</th>\n      <th>Employees</th>\n      <th>Change in rank (500)</th>\n      <th>Year</th>\n      <th>Cat</th>\n    </tr>\n  </thead>\n  <tbody>\n    <tr>\n      <th>0</th>\n      <td>1</td>\n      <td>Walmart</td>\n      <td>$485,873</td>\n      <td>0.8%</td>\n      <td>$13,643</td>\n      <td>-7.2%</td>\n      <td>$198,825</td>\n      <td>$218,619</td>\n      <td>-</td>\n      <td>2,300,000</td>\n      <td>-</td>\n      <td>2017</td>\n      <td>No filter</td>\n    </tr>\n    <tr>\n      <th>1</th>\n      <td>2</td>\n      <td>Berkshire Hathaway</td>\n      <td>$223,604</td>\n      <td>6.1%</td>\n      <td>$24,074</td>\n      <td>0.0%</td>\n      <td>$620,854</td>\n      <td>$411,035</td>\n      <td>2</td>\n      <td>367,700</td>\n      <td>2</td>\n      <td>2017</td>\n      <td>No filter</td>\n    </tr>\n    <tr>\n      <th>2</th>\n      <td>3</td>\n      <td>Apple</td>\n      <td>$215,639</td>\n      <td>-7.7%</td>\n      <td>$45,687</td>\n      <td>-14.4%</td>\n      <td>$321,686</td>\n      <td>$753,718</td>\n      <td>-</td>\n      <td>116,000</td>\n      <td>-</td>\n      <td>2017</td>\n      <td>No filter</td>\n    </tr>\n    <tr>\n      <th>3</th>\n      <td>4</td>\n      <td>Exxon Mobil</td>\n      <td>$205,004</td>\n      <td>-16.7%</td>\n      <td>$7,840</td>\n      <td>-51.5%</td>\n      <td>$330,314</td>\n      <td>$340,056</td>\n      <td>-2</td>\n      <td>72,700</td>\n      <td>-2</td>\n      <td>2017</td>\n      <td>No filter</td>\n    </tr>\n    <tr>\n      <th>4</th>\n      <td>5</td>\n      <td>McKesson</td>\n      <td>$192,487</td>\n      <td>6.2%</td>\n      <td>$2,258</td>\n      <td>53%</td>\n      <td>$56,563</td>\n      <td>$31,439</td>\n      <td>-</td>\n      <td>68,000</td>\n      <td>-</td>\n      <td>2017</td>\n      <td>No filter</td>\n    </tr>\n  </tbody>\n</table>\n</div>"
     },
     "metadata": {},
     "execution_count": 8
    }
   ],
   "source": [
    "# Concat all three datasets into one\n",
    "df = pd.concat([df_all,df_female,df_founder],axis=0)\n",
    "df.head()"
   ]
  },
  {
   "cell_type": "code",
   "execution_count": 9,
   "metadata": {
    "tags": []
   },
   "outputs": [],
   "source": [
    "# Rank\n",
    "df['Rank'] = df['Rank'].replace(to_replace='[,]',value='',regex=True)\n",
    "df['Rank'] = df['Rank'].replace(to_replace='^-$',value='0',regex=True)\n",
    "df['Rank'] = pd.to_numeric(df['Rank'],errors='coerce')"
   ]
  },
  {
   "cell_type": "code",
   "execution_count": 10,
   "metadata": {
    "tags": []
   },
   "outputs": [],
   "source": [
    "# Revenue ($M)\n",
    "df['Revenue ($M)'] = df['Revenue ($M)'].replace(to_replace='[\\$,]',value='',regex=True)\n",
    "df['Revenue ($M)'] = df['Revenue ($M)'].replace(to_replace='^-$',value='0',regex=True)\n",
    "df['Revenue ($M)'] = pd.to_numeric(df['Revenue ($M)'],errors='coerce')"
   ]
  },
  {
   "cell_type": "code",
   "execution_count": 11,
   "metadata": {
    "tags": []
   },
   "outputs": [],
   "source": [
    "# Revenue % change\n",
    "df['Revenue % change'] = df['Revenue % change'].replace(to_replace='%',value='',regex=True)\n",
    "df['Revenue % change'] = df['Revenue % change'].replace(to_replace='^-$',value='0',regex=True)\n",
    "df['Revenue % change'] = pd.to_numeric(df['Revenue % change'],errors='coerce')"
   ]
  },
  {
   "cell_type": "code",
   "execution_count": 12,
   "metadata": {
    "tags": []
   },
   "outputs": [],
   "source": [
    "# Profit ($M)\n",
    "df['Profit ($M)'] = df['Profit ($M)'].replace(to_replace='[\\$,]',value='',regex=True)\n",
    "df['Profit ($M)'] = df['Profit ($M)'].replace(to_replace='^-$',value='0',regex=True)\n",
    "df['Profit ($M)'] = pd.to_numeric(df['Profit ($M)'],errors='coerce')"
   ]
  },
  {
   "cell_type": "code",
   "execution_count": 13,
   "metadata": {
    "tags": []
   },
   "outputs": [],
   "source": [
    "# Profit % change\n",
    "df['Profit % change'] = df['Profit % change'].replace(to_replace='%',value='',regex=True)\n",
    "df['Profit % change'] = df['Profit % change'].replace(to_replace='^-$',value='0',regex=True)\n",
    "df['Profit % change'] = pd.to_numeric(df['Profit % change'],errors='coerce')"
   ]
  },
  {
   "cell_type": "code",
   "execution_count": 14,
   "metadata": {
    "tags": []
   },
   "outputs": [],
   "source": [
    "# Assets ($M)\n",
    "df['Assets ($M)'] = df['Assets ($M)'].replace(to_replace='[\\$,]',value='',regex=True)\n",
    "df['Assets ($M)'] = df['Assets ($M)'].replace(to_replace='^-$',value='0',regex=True)\n",
    "df['Assets ($M)'] = pd.to_numeric(df['Assets ($M)'],errors='coerce')"
   ]
  },
  {
   "cell_type": "code",
   "execution_count": 15,
   "metadata": {
    "tags": []
   },
   "outputs": [],
   "source": [
    "# Market Value ($M)\n",
    "df['Market Value ($M)'] = df['Market Value ($M)'].replace(to_replace='[\\$,]',value='',regex=True)\n",
    "df['Market Value ($M)'] = df['Market Value ($M)'].replace(to_replace='^-$',value='0',regex=True)\n",
    "df['Market Value ($M)'] = pd.to_numeric(df['Market Value ($M)'],errors='coerce')"
   ]
  },
  {
   "cell_type": "code",
   "execution_count": 16,
   "metadata": {
    "tags": []
   },
   "outputs": [],
   "source": [
    "# Change in rank (1000)\n",
    "df['Change in rank (1000)'] = df['Change in rank (1000)'].replace(to_replace='[,]',value='',regex=True)\n",
    "df['Change in rank (1000)'] = df['Change in rank (1000)'].replace(to_replace='^-$',value='0',regex=True)\n",
    "df['Change in rank (1000)'] = pd.to_numeric(df['Change in rank (1000)'],errors='coerce')"
   ]
  },
  {
   "cell_type": "code",
   "execution_count": 17,
   "metadata": {
    "tags": []
   },
   "outputs": [],
   "source": [
    "# Employees\n",
    "df['Employees'] = df['Employees'].replace(to_replace='[,]',value='',regex=True)\n",
    "df['Employees'] = pd.to_numeric(df['Employees'],errors='coerce')"
   ]
  },
  {
   "cell_type": "code",
   "execution_count": 18,
   "metadata": {
    "tags": []
   },
   "outputs": [],
   "source": [
    "# Change in rank (500)\n",
    "df['Change in rank (500)'] = df['Change in rank (500)'].replace(to_replace='[,]',value='',regex=True)\n",
    "df['Change in rank (500)'] = df['Change in rank (500)'].replace(to_replace='^-$',value='0',regex=True)\n",
    "df['Change in rank (500)'] = pd.to_numeric(df['Change in rank (500)'],errors='coerce')"
   ]
  },
  {
   "cell_type": "code",
   "execution_count": 19,
   "metadata": {
    "tags": []
   },
   "outputs": [
    {
     "output_type": "stream",
     "name": "stdout",
     "text": "<class 'pandas.core.frame.DataFrame'>\nInt64Index: 4287 entries, 0 to 106\nData columns (total 13 columns):\n #   Column                 Non-Null Count  Dtype  \n---  ------                 --------------  -----  \n 0   Rank                   4287 non-null   int64  \n 1   Name                   4287 non-null   object \n 2   Revenue ($M)           4287 non-null   float64\n 3   Revenue % change       4287 non-null   float64\n 4   Profit ($M)            4287 non-null   float64\n 5   Profit % change        4287 non-null   float64\n 6   Assets ($M)            4287 non-null   float64\n 7   Market Value ($M)      4287 non-null   float64\n 8   Change in rank (1000)  4287 non-null   int64  \n 9   Employees              4287 non-null   int64  \n 10  Change in rank (500)   4287 non-null   int64  \n 11  Year                   4287 non-null   int64  \n 12  Cat                    4287 non-null   object \ndtypes: float64(6), int64(5), object(2)\nmemory usage: 468.9+ KB\n"
    }
   ],
   "source": [
    "df.info()"
   ]
  },
  {
   "cell_type": "code",
   "execution_count": 20,
   "metadata": {},
   "outputs": [],
   "source": [
    "df.to_excel('cleaned_overall_dataset.xlsx')"
   ]
  }
 ],
 "metadata": {
  "kernelspec": {
   "display_name": "Python 3.7.6 64-bit ('anaconda3': virtualenv)",
   "language": "python",
   "name": "python_defaultSpec_1596213772543"
  },
  "language_info": {
   "codemirror_mode": {
    "name": "ipython",
    "version": 3
   },
   "file_extension": ".py",
   "mimetype": "text/x-python",
   "name": "python",
   "nbconvert_exporter": "python",
   "pygments_lexer": "ipython3",
   "version": "3.7.6-final"
  }
 },
 "nbformat": 4,
 "nbformat_minor": 2
}