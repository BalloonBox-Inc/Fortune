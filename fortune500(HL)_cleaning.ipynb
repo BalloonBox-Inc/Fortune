{
 "cells": [
  {
   "cell_type": "code",
   "execution_count": 1,
   "metadata": {},
   "outputs": [],
   "source": [
    "#Author: @michaelbrink\n",
    "#Org: BalloonBox Inc."
   ]
  },
  {
   "cell_type": "code",
   "execution_count": 2,
   "metadata": {},
   "outputs": [],
   "source": [
    "from bs4 import BeautifulSoup\n",
    "import requests\n",
    "import json\n",
    "from html.parser import HTMLParser\n",
    "import urllib.request\n",
    "import string\n",
    "import random\n",
    "import re\n",
    "import pandas as pd\n",
    "import numpy as np"
   ]
  },
  {
   "cell_type": "code",
   "execution_count": 3,
   "metadata": {},
   "outputs": [],
   "source": [
    "#Need a JS enabled web service\n",
    "from selenium import webdriver\n",
    "from selenium.webdriver.common.action_chains import ActionChains\n",
    "import selenium.webdriver.chrome.service as service\n",
    "from selenium.webdriver.chrome.options import Options\n",
    "import time"
   ]
  },
  {
   "cell_type": "markdown",
   "metadata": {},
   "source": [
    "# Imported the data files"
   ]
  },
  {
   "cell_type": "code",
   "execution_count": 4,
   "metadata": {},
   "outputs": [],
   "source": [
    "df_founder = pd.read_excel('forbes2017-2020_ceofounder.xlsx',index_col=0)\n",
    "df_female = pd.read_excel('forbes2017-2020_femaleceo.xlsx',index_col=0)\n",
    "df_all = pd.read_excel('forbes2017-2020_nofilter.xlsx',index_col=0)"
   ]
  },
  {
   "cell_type": "markdown",
   "metadata": {},
   "source": [
    "## Data Cleaning"
   ]
  },
  {
   "cell_type": "code",
   "execution_count": 5,
   "metadata": {},
   "outputs": [
    {
     "output_type": "execute_result",
     "data": {
      "text/plain": "  Rank                Name Revenue ($M) Revenue % change Profit ($M)  \\\n0    1             Walmart     $485,873             0.8%     $13,643   \n1    2  Berkshire Hathaway     $223,604             6.1%     $24,074   \n2    3               Apple     $215,639            -7.7%     $45,687   \n3    4         Exxon Mobil     $205,004           -16.7%      $7,840   \n4    5            McKesson     $192,487             6.2%      $2,258   \n\n  Profit % change Assets ($M) Market Value ($M) Change in rank (1000)  \\\n0           -7.2%    $198,825          $218,619             2,300,000   \n1            0.0%    $620,854          $411,035               367,700   \n2          -14.4%    $321,686          $753,718               116,000   \n3          -51.5%    $330,314          $340,056                72,700   \n4             53%     $56,563           $31,439                68,000   \n\n  Employees Change in rank (500)  Year  \n0         -                    -  2017  \n1         2                    2  2017  \n2         -                    -  2017  \n3        -2                   -2  2017  \n4         -                    -  2017  ",
      "text/html": "<div>\n<style scoped>\n    .dataframe tbody tr th:only-of-type {\n        vertical-align: middle;\n    }\n\n    .dataframe tbody tr th {\n        vertical-align: top;\n    }\n\n    .dataframe thead th {\n        text-align: right;\n    }\n</style>\n<table border=\"1\" class=\"dataframe\">\n  <thead>\n    <tr style=\"text-align: right;\">\n      <th></th>\n      <th>Rank</th>\n      <th>Name</th>\n      <th>Revenue ($M)</th>\n      <th>Revenue % change</th>\n      <th>Profit ($M)</th>\n      <th>Profit % change</th>\n      <th>Assets ($M)</th>\n      <th>Market Value ($M)</th>\n      <th>Change in rank (1000)</th>\n      <th>Employees</th>\n      <th>Change in rank (500)</th>\n      <th>Year</th>\n    </tr>\n  </thead>\n  <tbody>\n    <tr>\n      <th>0</th>\n      <td>1</td>\n      <td>Walmart</td>\n      <td>$485,873</td>\n      <td>0.8%</td>\n      <td>$13,643</td>\n      <td>-7.2%</td>\n      <td>$198,825</td>\n      <td>$218,619</td>\n      <td>2,300,000</td>\n      <td>-</td>\n      <td>-</td>\n      <td>2017</td>\n    </tr>\n    <tr>\n      <th>1</th>\n      <td>2</td>\n      <td>Berkshire Hathaway</td>\n      <td>$223,604</td>\n      <td>6.1%</td>\n      <td>$24,074</td>\n      <td>0.0%</td>\n      <td>$620,854</td>\n      <td>$411,035</td>\n      <td>367,700</td>\n      <td>2</td>\n      <td>2</td>\n      <td>2017</td>\n    </tr>\n    <tr>\n      <th>2</th>\n      <td>3</td>\n      <td>Apple</td>\n      <td>$215,639</td>\n      <td>-7.7%</td>\n      <td>$45,687</td>\n      <td>-14.4%</td>\n      <td>$321,686</td>\n      <td>$753,718</td>\n      <td>116,000</td>\n      <td>-</td>\n      <td>-</td>\n      <td>2017</td>\n    </tr>\n    <tr>\n      <th>3</th>\n      <td>4</td>\n      <td>Exxon Mobil</td>\n      <td>$205,004</td>\n      <td>-16.7%</td>\n      <td>$7,840</td>\n      <td>-51.5%</td>\n      <td>$330,314</td>\n      <td>$340,056</td>\n      <td>72,700</td>\n      <td>-2</td>\n      <td>-2</td>\n      <td>2017</td>\n    </tr>\n    <tr>\n      <th>4</th>\n      <td>5</td>\n      <td>McKesson</td>\n      <td>$192,487</td>\n      <td>6.2%</td>\n      <td>$2,258</td>\n      <td>53%</td>\n      <td>$56,563</td>\n      <td>$31,439</td>\n      <td>68,000</td>\n      <td>-</td>\n      <td>-</td>\n      <td>2017</td>\n    </tr>\n  </tbody>\n</table>\n</div>"
     },
     "metadata": {},
     "execution_count": 5
    }
   ],
   "source": [
    "df_all.head()"
   ]
  },
  {
   "cell_type": "code",
   "execution_count": 6,
   "metadata": {},
   "outputs": [],
   "source": [
    "# The orders of features in 2017 is different from other years, so we need to manually switch them\n",
    "temp_employees = df_all[df_all['Year']==2017]['Change in rank (1000)']\n",
    "temp_rank_1000 = df_all[df_all['Year']==2017]['Employees']\n",
    "df_all.loc[df_all['Year']==2017,'Change in rank (1000)'] = temp_rank_1000\n",
    "df_all.loc[df_all['Year']==2017,'Employees'] = temp_employees"
   ]
  },
  {
   "cell_type": "code",
   "execution_count": 7,
   "metadata": {},
   "outputs": [],
   "source": [
    "# Append the Cat column to dataFrame\n",
    "df_all['Cat'] = 'No filter'\n",
    "df_female['Cat'] = 'Female CEO'\n",
    "df_founder['Cat'] = 'Founder CEO'"
   ]
  },
  {
   "cell_type": "code",
   "execution_count": 8,
   "metadata": {},
   "outputs": [
    {
     "output_type": "execute_result",
     "data": {
      "text/plain": "  Rank                Name Revenue ($M) Revenue % change Profit ($M)  \\\n0    1             Walmart     $485,873             0.8%     $13,643   \n1    2  Berkshire Hathaway     $223,604             6.1%     $24,074   \n2    3               Apple     $215,639            -7.7%     $45,687   \n3    4         Exxon Mobil     $205,004           -16.7%      $7,840   \n4    5            McKesson     $192,487             6.2%      $2,258   \n\n  Profit % change Assets ($M) Market Value ($M) Change in rank (1000)  \\\n0           -7.2%    $198,825          $218,619                     -   \n1            0.0%    $620,854          $411,035                     2   \n2          -14.4%    $321,686          $753,718                     -   \n3          -51.5%    $330,314          $340,056                    -2   \n4             53%     $56,563           $31,439                     -   \n\n   Employees Change in rank (500)  Year        Cat  \n0  2,300,000                    -  2017  No filter  \n1    367,700                    2  2017  No filter  \n2    116,000                    -  2017  No filter  \n3     72,700                   -2  2017  No filter  \n4     68,000                    -  2017  No filter  ",
      "text/html": "<div>\n<style scoped>\n    .dataframe tbody tr th:only-of-type {\n        vertical-align: middle;\n    }\n\n    .dataframe tbody tr th {\n        vertical-align: top;\n    }\n\n    .dataframe thead th {\n        text-align: right;\n    }\n</style>\n<table border=\"1\" class=\"dataframe\">\n  <thead>\n    <tr style=\"text-align: right;\">\n      <th></th>\n      <th>Rank</th>\n      <th>Name</th>\n      <th>Revenue ($M)</th>\n      <th>Revenue % change</th>\n      <th>Profit ($M)</th>\n      <th>Profit % change</th>\n      <th>Assets ($M)</th>\n      <th>Market Value ($M)</th>\n      <th>Change in rank (1000)</th>\n      <th>Employees</th>\n      <th>Change in rank (500)</th>\n      <th>Year</th>\n      <th>Cat</th>\n    </tr>\n  </thead>\n  <tbody>\n    <tr>\n      <th>0</th>\n      <td>1</td>\n      <td>Walmart</td>\n      <td>$485,873</td>\n      <td>0.8%</td>\n      <td>$13,643</td>\n      <td>-7.2%</td>\n      <td>$198,825</td>\n      <td>$218,619</td>\n      <td>-</td>\n      <td>2,300,000</td>\n      <td>-</td>\n      <td>2017</td>\n      <td>No filter</td>\n    </tr>\n    <tr>\n      <th>1</th>\n      <td>2</td>\n      <td>Berkshire Hathaway</td>\n      <td>$223,604</td>\n      <td>6.1%</td>\n      <td>$24,074</td>\n      <td>0.0%</td>\n      <td>$620,854</td>\n      <td>$411,035</td>\n      <td>2</td>\n      <td>367,700</td>\n      <td>2</td>\n      <td>2017</td>\n      <td>No filter</td>\n    </tr>\n    <tr>\n      <th>2</th>\n      <td>3</td>\n      <td>Apple</td>\n      <td>$215,639</td>\n      <td>-7.7%</td>\n      <td>$45,687</td>\n      <td>-14.4%</td>\n      <td>$321,686</td>\n      <td>$753,718</td>\n      <td>-</td>\n      <td>116,000</td>\n      <td>-</td>\n      <td>2017</td>\n      <td>No filter</td>\n    </tr>\n    <tr>\n      <th>3</th>\n      <td>4</td>\n      <td>Exxon Mobil</td>\n      <td>$205,004</td>\n      <td>-16.7%</td>\n      <td>$7,840</td>\n      <td>-51.5%</td>\n      <td>$330,314</td>\n      <td>$340,056</td>\n      <td>-2</td>\n      <td>72,700</td>\n      <td>-2</td>\n      <td>2017</td>\n      <td>No filter</td>\n    </tr>\n    <tr>\n      <th>4</th>\n      <td>5</td>\n      <td>McKesson</td>\n      <td>$192,487</td>\n      <td>6.2%</td>\n      <td>$2,258</td>\n      <td>53%</td>\n      <td>$56,563</td>\n      <td>$31,439</td>\n      <td>-</td>\n      <td>68,000</td>\n      <td>-</td>\n      <td>2017</td>\n      <td>No filter</td>\n    </tr>\n  </tbody>\n</table>\n</div>"
     },
     "metadata": {},
     "execution_count": 8
    }
   ],
   "source": [
    "# Concat all three datasets into one\n",
    "df = pd.concat([df_all,df_female,df_founder],axis=0)\n",
    "df.head()"
   ]
  },
  {
   "cell_type": "code",
   "execution_count": 9,
   "metadata": {
    "tags": []
   },
   "outputs": [],
   "source": [
    "# Rank\n",
    "df['Rank'] = df['Rank'].replace(to_replace='[,]',value='',regex=True)\n",
    "df['Rank'] = df['Rank'].replace(to_replace='^-$',value='0',regex=True)\n",
    "df['Rank'] = pd.to_numeric(df['Rank'],errors='coerce')"
   ]
  },
  {
   "cell_type": "code",
   "execution_count": 10,
   "metadata": {
    "tags": []
   },
   "outputs": [],
   "source": [
    "# Revenue ($M)\n",
    "df['Revenue ($M)'] = df['Revenue ($M)'].replace(to_replace='[\\$,]',value='',regex=True)\n",
    "df['Revenue ($M)'] = df['Revenue ($M)'].replace(to_replace='^-$',value='0',regex=True)\n",
    "df['Revenue ($M)'] = pd.to_numeric(df['Revenue ($M)'],errors='coerce')"
   ]
  },
  {
   "cell_type": "code",
   "execution_count": 11,
   "metadata": {
    "tags": []
   },
   "outputs": [],
   "source": [
    "# Revenue % change\n",
    "df['Revenue % change'] = df['Revenue % change'].replace(to_replace='%',value='',regex=True)\n",
    "df['Revenue % change'] = df['Revenue % change'].replace(to_replace='^-$',value='0',regex=True)\n",
    "df['Revenue % change'] = pd.to_numeric(df['Revenue % change'],errors='coerce')"
   ]
  },
  {
   "cell_type": "code",
   "execution_count": 12,
   "metadata": {
    "tags": []
   },
   "outputs": [],
   "source": [
    "# Profit ($M)\n",
    "df['Profit ($M)'] = df['Profit ($M)'].replace(to_replace='[\\$,]',value='',regex=True)\n",
    "df['Profit ($M)'] = df['Profit ($M)'].replace(to_replace='^-$',value='0',regex=True)\n",
    "df['Profit ($M)'] = pd.to_numeric(df['Profit ($M)'],errors='coerce')"
   ]
  },
  {
   "cell_type": "code",
   "execution_count": 13,
   "metadata": {
    "tags": []
   },
   "outputs": [],
   "source": [
    "# Profit % change\n",
    "df['Profit % change'] = df['Profit % change'].replace(to_replace='%',value='',regex=True)\n",
    "df['Profit % change'] = df['Profit % change'].replace(to_replace='^-$',value='0',regex=True)\n",
    "df['Profit % change'] = pd.to_numeric(df['Profit % change'],errors='coerce')"
   ]
  },
  {
   "cell_type": "code",
   "execution_count": 14,
   "metadata": {
    "tags": []
   },
   "outputs": [],
   "source": [
    "# Assets ($M)\n",
    "df['Assets ($M)'] = df['Assets ($M)'].replace(to_replace='[\\$,]',value='',regex=True)\n",
    "df['Assets ($M)'] = df['Assets ($M)'].replace(to_replace='^-$',value='0',regex=True)\n",
    "df['Assets ($M)'] = pd.to_numeric(df['Assets ($M)'],errors='coerce')"
   ]
  },
  {
   "cell_type": "code",
   "execution_count": 15,
   "metadata": {
    "tags": []
   },
   "outputs": [],
   "source": [
    "# Market Value ($M)\n",
    "df['Market Value ($M)'] = df['Market Value ($M)'].replace(to_replace='[\\$,]',value='',regex=True)\n",
    "df['Market Value ($M)'] = df['Market Value ($M)'].replace(to_replace='^-$',value='0',regex=True)\n",
    "df['Market Value ($M)'] = pd.to_numeric(df['Market Value ($M)'],errors='coerce')"
   ]
  },
  {
   "cell_type": "code",
   "execution_count": 16,
   "metadata": {
    "tags": []
   },
   "outputs": [],
   "source": [
    "# Change in rank (1000)\n",
    "df['Change in rank (1000)'] = df['Change in rank (1000)'].replace(to_replace='[,]',value='',regex=True)\n",
    "df['Change in rank (1000)'] = df['Change in rank (1000)'].replace(to_replace='^-$',value='0',regex=True)\n",
    "df['Change in rank (1000)'] = pd.to_numeric(df['Change in rank (1000)'],errors='coerce')"
   ]
  },
  {
   "cell_type": "code",
   "execution_count": 17,
   "metadata": {
    "tags": []
   },
   "outputs": [],
   "source": [
    "# Employees\n",
    "df['Employees'] = df['Employees'].replace(to_replace='[,]',value='',regex=True)\n",
    "df['Employees'] = pd.to_numeric(df['Employees'],errors='coerce')"
   ]
  },
  {
   "cell_type": "code",
   "execution_count": 18,
   "metadata": {
    "tags": []
   },
   "outputs": [],
   "source": [
    "# Change in rank (500)\n",
    "df['Change in rank (500)'] = df['Change in rank (500)'].replace(to_replace='[,]',value='',regex=True)\n",
    "df['Change in rank (500)'] = df['Change in rank (500)'].replace(to_replace='^-$',value='0',regex=True)\n",
    "df['Change in rank (500)'] = pd.to_numeric(df['Change in rank (500)'],errors='coerce')"
   ]
  },
  {
   "cell_type": "code",
   "execution_count": 19,
   "metadata": {
    "tags": []
   },
   "outputs": [
    {
     "output_type": "stream",
     "name": "stdout",
     "text": "<class 'pandas.core.frame.DataFrame'>\nInt64Index: 4287 entries, 0 to 106\nData columns (total 13 columns):\n #   Column                 Non-Null Count  Dtype  \n---  ------                 --------------  -----  \n 0   Rank                   4287 non-null   int64  \n 1   Name                   4287 non-null   object \n 2   Revenue ($M)           4287 non-null   float64\n 3   Revenue % change       4287 non-null   float64\n 4   Profit ($M)            4287 non-null   float64\n 5   Profit % change        4287 non-null   float64\n 6   Assets ($M)            4287 non-null   float64\n 7   Market Value ($M)      4287 non-null   float64\n 8   Change in rank (1000)  4287 non-null   int64  \n 9   Employees              4287 non-null   int64  \n 10  Change in rank (500)   4287 non-null   int64  \n 11  Year                   4287 non-null   int64  \n 12  Cat                    4287 non-null   object \ndtypes: float64(6), int64(5), object(2)\nmemory usage: 468.9+ KB\n"
    }
   ],
   "source": [
    "df.info()"
   ]
  },
  {
   "cell_type": "code",
   "execution_count": 20,
   "metadata": {},
   "outputs": [],
   "source": [
    "df.to_excel('cleaned_overall_dataset.xlsx')"
   ]
  }
 ],
 "metadata": {
  "kernelspec": {
   "display_name": "Python 3.7.6 64-bit ('anaconda3': virtualenv)",
   "language": "python",
   "name": "python_defaultSpec_1596052391815"
  },
  "language_info": {
   "codemirror_mode": {
    "name": "ipython",
    "version": 3
   },
   "file_extension": ".py",
   "mimetype": "text/x-python",
   "name": "python",
   "nbconvert_exporter": "python",
   "pygments_lexer": "ipython3",
   "version": "3.7.6-final"
  }
 },
 "nbformat": 4,
 "nbformat_minor": 2
}